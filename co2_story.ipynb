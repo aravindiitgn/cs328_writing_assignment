{
 "cells": [
  {
   "cell_type": "markdown",
   "id": "d5b5fb6a",
   "metadata": {},
   "source": [
    "# CO₂ and Greenhouse Gas Emissions Analysis\n",
    "\n",
    "This notebook analyzes the **Our World in Data CO₂ and Greenhouse Gas Emissions** dataset. It includes key metrics such as annual CO₂ emissions, CO₂ emissions per capita, cumulative and consumption-based CO₂ emissions, along with other indicators related to greenhouse gas emissions and energy mix.\n",
    "\n",
    "A codebook (`owid-co2-codebook.csv`) is provided alongside the dataset (`owid-co2-data.csv`). The codebook includes detailed descriptions and source information for each indicator. We'll use it to gain a better understanding of the dataset.\n"
   ]
  },
  {
   "cell_type": "code",
   "execution_count": null,
   "id": "6510be13",
   "metadata": {
    "tags": [
     "remove_cell"
    ]
   },
   "outputs": [
    {
     "name": "stdout",
     "output_type": "stream",
     "text": [
      "=== Data Sample ===\n",
      "       country  year iso_code  population  gdp  cement_co2  \\\n",
      "0  Afghanistan  1750      AFG   2802560.0  NaN         0.0   \n",
      "1  Afghanistan  1751      AFG         NaN  NaN         0.0   \n",
      "2  Afghanistan  1752      AFG         NaN  NaN         0.0   \n",
      "3  Afghanistan  1753      AFG         NaN  NaN         0.0   \n",
      "4  Afghanistan  1754      AFG         NaN  NaN         0.0   \n",
      "\n",
      "   cement_co2_per_capita  co2  co2_growth_abs  co2_growth_prct  ...  \\\n",
      "0                    0.0  NaN             NaN              NaN  ...   \n",
      "1                    NaN  NaN             NaN              NaN  ...   \n",
      "2                    NaN  NaN             NaN              NaN  ...   \n",
      "3                    NaN  NaN             NaN              NaN  ...   \n",
      "4                    NaN  NaN             NaN              NaN  ...   \n",
      "\n",
      "   share_global_other_co2  share_of_temperature_change_from_ghg  \\\n",
      "0                     NaN                                   NaN   \n",
      "1                     NaN                                   NaN   \n",
      "2                     NaN                                   NaN   \n",
      "3                     NaN                                   NaN   \n",
      "4                     NaN                                   NaN   \n",
      "\n",
      "   temperature_change_from_ch4  temperature_change_from_co2  \\\n",
      "0                          NaN                          NaN   \n",
      "1                          NaN                          NaN   \n",
      "2                          NaN                          NaN   \n",
      "3                          NaN                          NaN   \n",
      "4                          NaN                          NaN   \n",
      "\n",
      "   temperature_change_from_ghg  temperature_change_from_n2o  total_ghg  \\\n",
      "0                          NaN                          NaN        NaN   \n",
      "1                          NaN                          NaN        NaN   \n",
      "2                          NaN                          NaN        NaN   \n",
      "3                          NaN                          NaN        NaN   \n",
      "4                          NaN                          NaN        NaN   \n",
      "\n",
      "   total_ghg_excluding_lucf  trade_co2  trade_co2_share  \n",
      "0                       NaN        NaN              NaN  \n",
      "1                       NaN        NaN              NaN  \n",
      "2                       NaN        NaN              NaN  \n",
      "3                       NaN        NaN              NaN  \n",
      "4                       NaN        NaN              NaN  \n",
      "\n",
      "[5 rows x 79 columns]\n",
      "\n",
      "=== Codebook Sample ===\n",
      "       column                                        description  \\\n",
      "0     country                     Country - Geographic location.   \n",
      "1        year                        Year - Year of observation.   \n",
      "2    iso_code  ISO code - ISO 3166-1 alpha-3 three-letter cou...   \n",
      "3  population  Population - Population by country, available ...   \n",
      "4         gdp  Gross domestic product (GDP) - This data is ad...   \n",
      "\n",
      "                             unit  \\\n",
      "0                             NaN   \n",
      "1                             NaN   \n",
      "2                             NaN   \n",
      "3                          people   \n",
      "4  international-$ in 2011 prices   \n",
      "\n",
      "                                              source  \n",
      "0                 Our World in Data - Regions (2023)  \n",
      "1                 Our World in Data - Regions (2023)  \n",
      "2  International Organization for Standardization...  \n",
      "3  Population based on various sources (2024) [ht...  \n",
      "4  Bolt and van Zanden - Maddison Project Databas...  \n"
     ]
    }
   ],
   "source": [
    "import pandas as pd\n",
    "import numpy as np\n",
    "import matplotlib.pyplot as plt\n",
    "\n",
    "%matplotlib inline\n",
    "\n",
    "# Load the datasets\n",
    "data = pd.read_csv('owid-co2-data.csv')\n",
    "codebook = pd.read_csv('owid-co2-codebook.csv')\n",
    "\n",
    "# Display the first few rows of the dataset and codebook\n",
    "print(\"=== Data Sample ===\")\n",
    "print(data.head(5))\n",
    "\n",
    "print(\"\\n=== Codebook Sample ===\")\n",
    "print(codebook.head(5))\n"
   ]
  },
  {
   "cell_type": "markdown",
   "id": "8eee60d5",
   "metadata": {
    "tags": [
     "remove_cell"
    ]
   },
   "source": [
    "# Step 2: Data Exploration and Preliminary Cleaning\n",
    "\n",
    "After loading our dataset and codebook, our next move is to understand its structure and content.\n",
    "We'll start by:\n",
    "- Using the `.info()` method to see the data types and non-null counts.\n",
    "- Using `.describe()` to obtain summary statistics for numerical columns.\n",
    "- Counting the number of missing values in each column.\n"
   ]
  },
  {
   "cell_type": "code",
   "execution_count": null,
   "id": "290decc6",
   "metadata": {},
   "outputs": [
    {
     "name": "stdout",
     "output_type": "stream",
     "text": [
      "=== Data Information ===\n",
      "<class 'pandas.core.frame.DataFrame'>\n",
      "RangeIndex: 50191 entries, 0 to 50190\n",
      "Data columns (total 79 columns):\n",
      " #   Column                                     Non-Null Count  Dtype  \n",
      "---  ------                                     --------------  -----  \n",
      " 0   country                                    50191 non-null  object \n",
      " 1   year                                       50191 non-null  int64  \n",
      " 2   iso_code                                   42262 non-null  object \n",
      " 3   population                                 41019 non-null  float64\n",
      " 4   gdp                                        15251 non-null  float64\n",
      " 5   cement_co2                                 28863 non-null  float64\n",
      " 6   cement_co2_per_capita                      25358 non-null  float64\n",
      " 7   co2                                        29137 non-null  float64\n",
      " 8   co2_growth_abs                             26981 non-null  float64\n",
      " 9   co2_growth_prct                            26002 non-null  float64\n",
      " 10  co2_including_luc                          23585 non-null  float64\n",
      " 11  co2_including_luc_growth_abs               23285 non-null  float64\n",
      " 12  co2_including_luc_growth_prct              23285 non-null  float64\n",
      " 13  co2_including_luc_per_capita               23495 non-null  float64\n",
      " 14  co2_including_luc_per_gdp                  16790 non-null  float64\n",
      " 15  co2_including_luc_per_unit_energy          9701 non-null   float64\n",
      " 16  co2_per_capita                             26182 non-null  float64\n",
      " 17  co2_per_gdp                                17528 non-null  float64\n",
      " 18  co2_per_unit_energy                        10350 non-null  float64\n",
      " 19  coal_co2                                   21755 non-null  float64\n",
      " 20  coal_co2_per_capita                        21050 non-null  float64\n",
      " 21  consumption_co2                            4866 non-null   float64\n",
      " 22  consumption_co2_per_capita                 4502 non-null   float64\n",
      " 23  consumption_co2_per_gdp                    4444 non-null   float64\n",
      " 24  cumulative_cement_co2                      28841 non-null  float64\n",
      " 25  cumulative_co2                             27328 non-null  float64\n",
      " 26  cumulative_co2_including_luc               23585 non-null  float64\n",
      " 27  cumulative_coal_co2                        21755 non-null  float64\n",
      " 28  cumulative_flaring_co2                     15891 non-null  float64\n",
      " 29  cumulative_gas_co2                         18014 non-null  float64\n",
      " 30  cumulative_luc_co2                         37236 non-null  float64\n",
      " 31  cumulative_oil_co2                         25217 non-null  float64\n",
      " 32  cumulative_other_co2                       3202 non-null   float64\n",
      " 33  energy_per_capita                          10109 non-null  float64\n",
      " 34  energy_per_gdp                             7696 non-null   float64\n",
      " 35  flaring_co2                                15952 non-null  float64\n",
      " 36  flaring_co2_per_capita                     14694 non-null  float64\n",
      " 37  gas_co2                                    18014 non-null  float64\n",
      " 38  gas_co2_per_capita                         17292 non-null  float64\n",
      " 39  ghg_excluding_lucf_per_capita              35639 non-null  float64\n",
      " 40  ghg_per_capita                             35813 non-null  float64\n",
      " 41  land_use_change_co2                        37236 non-null  float64\n",
      " 42  land_use_change_co2_per_capita             36434 non-null  float64\n",
      " 43  methane                                    37410 non-null  float64\n",
      " 44  methane_per_capita                         35813 non-null  float64\n",
      " 45  nitrous_oxide                              38280 non-null  float64\n",
      " 46  nitrous_oxide_per_capita                   36320 non-null  float64\n",
      " 47  oil_co2                                    25218 non-null  float64\n",
      " 48  oil_co2_per_capita                         24436 non-null  float64\n",
      " 49  other_co2_per_capita                       2474 non-null   float64\n",
      " 50  other_industry_co2                         3202 non-null   float64\n",
      " 51  primary_energy_consumption                 10151 non-null  float64\n",
      " 52  share_global_cement_co2                    21960 non-null  float64\n",
      " 53  share_global_co2                           27328 non-null  float64\n",
      " 54  share_global_co2_including_luc             23585 non-null  float64\n",
      " 55  share_global_coal_co2                      21755 non-null  float64\n",
      " 56  share_global_cumulative_cement_co2         21960 non-null  float64\n",
      " 57  share_global_cumulative_co2                27328 non-null  float64\n",
      " 58  share_global_cumulative_co2_including_luc  23585 non-null  float64\n",
      " 59  share_global_cumulative_coal_co2           21755 non-null  float64\n",
      " 60  share_global_cumulative_flaring_co2        10869 non-null  float64\n",
      " 61  share_global_cumulative_gas_co2            15034 non-null  float64\n",
      " 62  share_global_cumulative_luc_co2            37236 non-null  float64\n",
      " 63  share_global_cumulative_oil_co2            23592 non-null  float64\n",
      " 64  share_global_cumulative_other_co2          2108 non-null   float64\n",
      " 65  share_global_flaring_co2                   10869 non-null  float64\n",
      " 66  share_global_gas_co2                       15034 non-null  float64\n",
      " 67  share_global_luc_co2                       37236 non-null  float64\n",
      " 68  share_global_oil_co2                       23592 non-null  float64\n",
      " 69  share_global_other_co2                     2108 non-null   float64\n",
      " 70  share_of_temperature_change_from_ghg       41001 non-null  float64\n",
      " 71  temperature_change_from_ch4                38060 non-null  float64\n",
      " 72  temperature_change_from_co2                41001 non-null  float64\n",
      " 73  temperature_change_from_ghg                41001 non-null  float64\n",
      " 74  temperature_change_from_n2o                38060 non-null  float64\n",
      " 75  total_ghg                                  37410 non-null  float64\n",
      " 76  total_ghg_excluding_lucf                   37236 non-null  float64\n",
      " 77  trade_co2                                  4535 non-null   float64\n",
      " 78  trade_co2_share                            4535 non-null   float64\n",
      "dtypes: float64(76), int64(1), object(2)\n",
      "memory usage: 30.3+ MB\n",
      "\n",
      "=== Summary Statistics ===\n",
      "               year    population           gdp    cement_co2  \\\n",
      "count  50191.000000  4.101900e+04  1.525100e+04  28863.000000   \n",
      "mean    1919.883067  5.686141e+07  3.300495e+11      7.767746   \n",
      "std       65.627296  3.199905e+08  3.086383e+12     62.595292   \n",
      "min     1750.000000  2.150000e+02  4.998000e+07      0.000000   \n",
      "25%     1875.000000  3.273130e+05  7.874038e+09      0.000000   \n",
      "50%     1924.000000  2.289522e+06  2.743861e+10      0.000000   \n",
      "75%     1974.000000  9.862459e+06  1.212627e+11      0.486000   \n",
      "max     2023.000000  8.091735e+09  1.301126e+14   1696.308000   \n",
      "\n",
      "       cement_co2_per_capita           co2  co2_growth_abs  co2_growth_prct  \\\n",
      "count           25358.000000  29137.000000    26981.000000     26002.000000   \n",
      "mean                0.059036    415.698178        6.208882        43.104462   \n",
      "std                 0.120328   1945.843973       62.322553      1729.939596   \n",
      "min                 0.000000      0.000000    -1977.750000      -100.000000   \n",
      "25%                 0.000000      0.374000       -0.005000        -1.102500   \n",
      "50%                 0.001000      4.990000        0.044000         3.803500   \n",
      "75%                 0.075750     53.273000        1.002000        10.890750   \n",
      "max                 2.484000  37791.570000     1865.208000    180870.000000   \n",
      "\n",
      "       co2_including_luc  co2_including_luc_growth_abs  ...  \\\n",
      "count       23585.000000                  23285.000000  ...   \n",
      "mean          535.581202                      7.214604  ...   \n",
      "std          2202.219657                     99.347980  ...   \n",
      "min           -99.693000                  -2325.500000  ...   \n",
      "25%             6.418000                     -0.908000  ...   \n",
      "50%            27.691000                      0.078000  ...   \n",
      "75%           123.959000                      2.620000  ...   \n",
      "max         41416.480000                   2340.184000  ...   \n",
      "\n",
      "       share_global_other_co2  share_of_temperature_change_from_ghg  \\\n",
      "count             2108.000000                          41001.000000   \n",
      "mean                 7.512655                              2.269285   \n",
      "std                 17.671054                              9.315325   \n",
      "min                  0.000000                             -0.810000   \n",
      "25%                  0.204750                              0.004000   \n",
      "50%                  0.838000                              0.078000   \n",
      "75%                  3.211000                              0.359000   \n",
      "max                100.000000                            100.000000   \n",
      "\n",
      "       temperature_change_from_ch4  temperature_change_from_co2  \\\n",
      "count                 38060.000000                 41001.000000   \n",
      "mean                      0.003026                     0.007670   \n",
      "std                       0.016519                     0.043694   \n",
      "min                      -0.001000                     0.000000   \n",
      "25%                       0.000000                     0.000000   \n",
      "50%                       0.000000                     0.000000   \n",
      "75%                       0.001000                     0.001000   \n",
      "max                       0.422000                     1.161000   \n",
      "\n",
      "       temperature_change_from_ghg  temperature_change_from_n2o     total_ghg  \\\n",
      "count                 41001.000000                 38060.000000  37410.000000   \n",
      "mean                      0.011023                     0.000509    488.542225   \n",
      "std                       0.061901                     0.003043   2392.579910   \n",
      "min                      -0.001000                     0.000000    -14.961000   \n",
      "25%                       0.000000                     0.000000      1.835000   \n",
      "50%                       0.000000                     0.000000     15.007500   \n",
      "75%                       0.001000                     0.000000     78.242750   \n",
      "max                       1.668000                     0.085000  53816.852000   \n",
      "\n",
      "       total_ghg_excluding_lucf    trade_co2  trade_co2_share  \n",
      "count              37236.000000  4535.000000      4535.000000  \n",
      "mean                 316.133529    -7.232399        20.524440  \n",
      "std                 1839.602293   250.640012        52.744956  \n",
      "min                    0.000000 -2195.952000       -98.849000  \n",
      "25%                    0.235000    -3.179500        -6.168000  \n",
      "50%                    2.371000     1.518000         8.701000  \n",
      "75%                   29.337500     9.153500        32.666000  \n",
      "max                44114.785000  1798.999000       568.635000  \n",
      "\n",
      "[8 rows x 77 columns]\n",
      "\n",
      "=== Missing Values per Column ===\n",
      "country                            0\n",
      "year                               0\n",
      "iso_code                        7929\n",
      "population                      9172\n",
      "gdp                            34940\n",
      "                               ...  \n",
      "temperature_change_from_n2o    12131\n",
      "total_ghg                      12781\n",
      "total_ghg_excluding_lucf       12955\n",
      "trade_co2                      45656\n",
      "trade_co2_share                45656\n",
      "Length: 79, dtype: int64\n"
     ]
    }
   ],
   "source": [
    "print(\"=== Data Information (first few lines) ===\")\n",
    "data.info(max_cols=20, memory_usage=False, verbose=False)  \n",
    "\n",
    "\n",
    "\n",
    "print(\"\\n=== Summary Statistics (first 5 rows) ===\")\n",
    "print(data.describe().head(5))\n",
    "\n",
    "\n",
    "print(\"\\n=== Missing Values per Column (first 5 columns) ===\")\n",
    "print(data.isnull().sum().head(5))"
   ]
  },
  {
   "cell_type": "markdown",
   "id": "0843d231",
   "metadata": {},
   "source": [
    "# Step 3: Data Cleaning and Preprocessing\n",
    "\n",
    "In this step we will:\n",
    "- Compute the percentage of missing values for each column.\n",
    "- Identify and drop columns that have more than 60% missing values.\n",
    "- Remove rows that are missing crucial data (i.e., 'country', 'year', or 'co2').\n",
    "\n",
    "This cleaning process will help us to ensure that the subsequent analysis—such as visualizing trends and performing statistical tests—is based on reliable data.\n"
   ]
  },
  {
   "cell_type": "code",
   "execution_count": null,
   "id": "d42f2992",
   "metadata": {},
   "outputs": [
    {
     "name": "stdout",
     "output_type": "stream",
     "text": [
      "=== Missing Percentage per Column ===\n",
      "                                   missing_pct\n",
      "share_global_cumulative_other_co2    95.800044\n",
      "share_global_other_co2               95.800044\n",
      "other_co2_per_capita                 95.070829\n",
      "other_industry_co2                   93.620370\n",
      "cumulative_other_co2                 93.620370\n",
      "...                                        ...\n",
      "temperature_change_from_ghg          18.310056\n",
      "population                           18.274193\n",
      "iso_code                             15.797653\n",
      "year                                  0.000000\n",
      "country                               0.000000\n",
      "\n",
      "[79 rows x 1 columns]\n",
      "\n",
      "Columns to drop (>60.0 % missing):\n",
      "['share_global_cumulative_other_co2', 'share_global_other_co2', 'other_co2_per_capita', 'other_industry_co2', 'cumulative_other_co2', 'consumption_co2_per_gdp', 'consumption_co2_per_capita', 'trade_co2', 'trade_co2_share', 'consumption_co2', 'energy_per_gdp', 'co2_including_luc_per_unit_energy', 'energy_per_capita', 'primary_energy_consumption', 'co2_per_unit_energy', 'share_global_cumulative_flaring_co2', 'share_global_flaring_co2', 'flaring_co2_per_capita', 'share_global_cumulative_gas_co2', 'share_global_gas_co2', 'gdp', 'cumulative_flaring_co2', 'flaring_co2', 'co2_including_luc_per_gdp', 'gas_co2_per_capita', 'co2_per_gdp', 'cumulative_gas_co2', 'gas_co2']\n",
      "\n",
      "Data shape after dropping columns: (50191, 51)\n",
      "Data shape after dropping rows with missing 'country', 'year', or 'co2': (29137, 51)\n",
      "\n",
      "=== Cleaned Data Information ===\n",
      "<class 'pandas.core.frame.DataFrame'>\n",
      "Index: 29137 entries, 199 to 50190\n",
      "Data columns (total 51 columns):\n",
      " #   Column                                     Non-Null Count  Dtype  \n",
      "---  ------                                     --------------  -----  \n",
      " 0   country                                    29137 non-null  object \n",
      " 1   year                                       29137 non-null  int64  \n",
      " 2   iso_code                                   23193 non-null  object \n",
      " 3   population                                 25145 non-null  float64\n",
      " 4   cement_co2                                 21498 non-null  float64\n",
      " 5   cement_co2_per_capita                      20737 non-null  float64\n",
      " 6   co2                                        29137 non-null  float64\n",
      " 7   co2_growth_abs                             26981 non-null  float64\n",
      " 8   co2_growth_prct                            26002 non-null  float64\n",
      " 9   co2_including_luc                          23585 non-null  float64\n",
      " 10  co2_including_luc_growth_abs               23285 non-null  float64\n",
      " 11  co2_including_luc_growth_prct              23285 non-null  float64\n",
      " 12  co2_including_luc_per_capita               23495 non-null  float64\n",
      " 13  co2_per_capita                             26182 non-null  float64\n",
      " 14  coal_co2                                   21755 non-null  float64\n",
      " 15  coal_co2_per_capita                        21050 non-null  float64\n",
      " 16  cumulative_cement_co2                      21489 non-null  float64\n",
      " 17  cumulative_co2                             27328 non-null  float64\n",
      " 18  cumulative_co2_including_luc               23585 non-null  float64\n",
      " 19  cumulative_coal_co2                        21755 non-null  float64\n",
      " 20  cumulative_luc_co2                         23597 non-null  float64\n",
      " 21  cumulative_oil_co2                         25217 non-null  float64\n",
      " 22  ghg_excluding_lucf_per_capita              22941 non-null  float64\n",
      " 23  ghg_per_capita                             23013 non-null  float64\n",
      " 24  land_use_change_co2                        23597 non-null  float64\n",
      " 25  land_use_change_co2_per_capita             23507 non-null  float64\n",
      " 26  methane                                    23889 non-null  float64\n",
      " 27  methane_per_capita                         23013 non-null  float64\n",
      " 28  nitrous_oxide                              24159 non-null  float64\n",
      " 29  nitrous_oxide_per_capita                   23261 non-null  float64\n",
      " 30  oil_co2                                    25218 non-null  float64\n",
      " 31  oil_co2_per_capita                         24436 non-null  float64\n",
      " 32  share_global_cement_co2                    19855 non-null  float64\n",
      " 33  share_global_co2                           27328 non-null  float64\n",
      " 34  share_global_co2_including_luc             23585 non-null  float64\n",
      " 35  share_global_coal_co2                      21755 non-null  float64\n",
      " 36  share_global_cumulative_cement_co2         19855 non-null  float64\n",
      " 37  share_global_cumulative_co2                27328 non-null  float64\n",
      " 38  share_global_cumulative_co2_including_luc  23585 non-null  float64\n",
      " 39  share_global_cumulative_coal_co2           21755 non-null  float64\n",
      " 40  share_global_cumulative_luc_co2            23597 non-null  float64\n",
      " 41  share_global_cumulative_oil_co2            23592 non-null  float64\n",
      " 42  share_global_luc_co2                       23597 non-null  float64\n",
      " 43  share_global_oil_co2                       23592 non-null  float64\n",
      " 44  share_of_temperature_change_from_ghg       25085 non-null  float64\n",
      " 45  temperature_change_from_ch4                24111 non-null  float64\n",
      " 46  temperature_change_from_co2                25085 non-null  float64\n",
      " 47  temperature_change_from_ghg                25085 non-null  float64\n",
      " 48  temperature_change_from_n2o                24111 non-null  float64\n",
      " 49  total_ghg                                  23889 non-null  float64\n",
      " 50  total_ghg_excluding_lucf                   23817 non-null  float64\n",
      "dtypes: float64(48), int64(1), object(2)\n",
      "memory usage: 11.6+ MB\n"
     ]
    }
   ],
   "source": [
    "# Step 3: Data Cleaning and Preprocessing\n",
    "\n",
    "# Calculate missing percentage for each column\n",
    "missing_pct = data.isnull().mean() * 100\n",
    "missing_df = missing_pct.sort_values(ascending=False).to_frame(name='missing_pct')\n",
    "\n",
    "print(\"=== Missing Percentage per Column (top 10) ===\")\n",
    "print(missing_df.head(10))\n",
    "\n",
    "\n",
    "threshold = 60.0\n",
    "columns_to_drop = missing_df[missing_df['missing_pct'] > threshold].index.tolist()\n",
    "print(f\"\\nColumns to drop (>{threshold}% missing):\")\n",
    "print(columns_to_drop)\n",
    "\n",
    "\n",
    "data_clean = data.drop(columns=columns_to_drop)\n",
    "print(f\"\\nData shape after dropping columns: {data_clean.shape}\")\n",
    "\n",
    "\n",
    "data_clean = data_clean.dropna(subset=['country', 'year', 'co2'])\n",
    "print(f\"Data shape after dropping rows with missing 'country', 'year', or 'co2': {data_clean.shape}\")\n",
    "\n",
    "\n",
    "print(\"\\n=== Cleaned Data Information (concise) ===\")\n",
    "data_clean.info(\n",
    "    verbose=False,    # summary only, no per-column detail\n",
    "    memory_usage=False\n",
    ")\n"
   ]
  },
  {
   "cell_type": "markdown",
   "id": "08b9cab9",
   "metadata": {},
   "source": [
    "# Step 4: Exploratory Data Analysis\n",
    "\n",
    "## Global Emissions Trends\n",
    "\n",
    "Here, we group the data by year to observe:\n",
    "- **Total CO₂ Emissions:** The aggregated sum of CO₂ emissions across all countries per year.\n",
    "- **Average CO₂ Emissions Per Capita:** The yearly average of per capita CO₂ emissions.\n",
    "\n",
    "These trends will help us understand the overall direction of emissions over time.\n"
   ]
  },
  {
   "cell_type": "code",
   "execution_count": null,
   "id": "37710270",
   "metadata": {},
   "outputs": [
    {
     "data": {
      "image/png": "[encoded data removed]",
      "text/plain": [
       "<Figure size 1200x600 with 1 Axes>"
      ]
     },
     "metadata": {},
     "output_type": "display_data"
    },
    {
     "data": {
      "image/png": "[encoded data removed]",
      "text/plain": [
       "<Figure size 1200x600 with 1 Axes>"
      ]
     },
     "metadata": {},
     "output_type": "display_data"
    }
   ],
   "source": [
    "\n",
    "\n",
    "# Aggregate data by year: total CO2 and average CO2 per capita.\n",
    "grouped_year = data_clean.groupby('year').agg({\n",
    "    'co2': 'sum', \n",
    "    'co2_per_capita': 'mean',\n",
    "    'population': 'sum'\n",
    "}).reset_index()\n",
    "\n",
    "# Plot total global CO2 emissions over time.\n",
    "plt.figure(figsize=(12, 6))\n",
    "plt.plot(grouped_year['year'], grouped_year['co2'], marker='o', linestyle='-', label='Total CO₂ Emissions')\n",
    "plt.title(\"Global Total CO₂ Emissions Over Time\")\n",
    "plt.xlabel(\"Year\")\n",
    "plt.ylabel(\"Total CO₂ Emissions\")\n",
    "plt.legend()\n",
    "plt.grid(True)\n",
    "plt.show()\n",
    "\n",
    "# Plot global average CO2 emissions per capita over time.\n",
    "plt.figure(figsize=(12, 6))\n",
    "plt.plot(grouped_year['year'], grouped_year['co2_per_capita'], marker='o', color='green', linestyle='-', label='Average CO₂ per Capita')\n",
    "plt.title(\"Global Average CO₂ Emissions Per Capita Over Time\")\n",
    "plt.xlabel(\"Year\")\n",
    "plt.ylabel(\"Average CO₂ per Capita\")\n",
    "plt.legend()\n",
    "plt.grid(True)\n",
    "plt.show()\n"
   ]
  },
  {
   "cell_type": "markdown",
   "id": "04abffba",
   "metadata": {},
   "source": [
    "**Hypothesis:** Since the mid‑20th century, global economic and technological advances have enabled a decoupling of per‑person CO₂ emissions from total emissions growth—so that although total CO₂ continues to climb, average per‑capita emissions have plateaued or even declined.\n",
    "\n",
    "The two panels above settle this hypothesis. The **top panel** shows total global CO₂ emissions accelerating sharply after 1950, climbing from ~35 Gt to over 240 Gt by 2023. Yet the **bottom panel** reveals that average per‑person emissions peaked around the 1950s–1970s at roughly 6–7 t CO₂/person and have since oscillated between 4.5 and 6.5 t. This divergence—soaring total emissions alongside a stable or gently declining per‑capita curve—confirms that while the world’s carbon footprint grows with population and economic scale, improvements in energy efficiency, shifts toward service economies, and the adoption of cleaner energy sources have partially offset per‑person emissions. Thus, the data support our hypothesis of mid‑century decoupling: humanity is emitting more CO₂ overall, but not at the same rate per individual.\n"
   ]
  },
  {
   "cell_type": "markdown",
   "id": "446c5101",
   "metadata": {},
   "source": [
    "## Correlation Analysis of Emission Indicators\n",
    "\n",
    "Next, we examine relationships among several key emission indicators. We select a subset of variables:\n",
    "- **CO₂ emissions (co2)**\n",
    "- **Cement CO₂ emissions (cement_co2)**\n",
    "- **Coal CO₂ emissions (coal_co2)**\n",
    "- **Oil CO₂ emissions (oil_co2)**\n",
    "- **Methane emissions (methane)**\n",
    "- **Nitrous oxide emissions (nitrous_oxide)**\n",
    "\n",
    "We'll compute a Pearson correlation matrix and visualize it with a heatmap. This analysis may reveal how changes in one type of emission correlate with others.\n"
   ]
  },
  {
   "cell_type": "code",
   "execution_count": null,
   "id": "7e47131b",
   "metadata": {},
   "outputs": [
    {
     "name": "stdout",
     "output_type": "stream",
     "text": [
      "=== Correlation Matrix ===\n",
      "                    co2  cement_co2  coal_co2   oil_co2   methane  \\\n",
      "co2            1.000000    0.886177  0.957950  0.968079  0.922544   \n",
      "cement_co2     0.886177    1.000000  0.906799  0.785878  0.815637   \n",
      "coal_co2       0.957950    0.906799  1.000000  0.865458  0.913947   \n",
      "oil_co2        0.968079    0.785878  0.865458  1.000000  0.885816   \n",
      "methane        0.922544    0.815637  0.913947  0.885816  1.000000   \n",
      "nitrous_oxide  0.951821    0.823060  0.915235  0.937750  0.980442   \n",
      "\n",
      "               nitrous_oxide  \n",
      "co2                 0.951821  \n",
      "cement_co2          0.823060  \n",
      "coal_co2            0.915235  \n",
      "oil_co2             0.937750  \n",
      "methane             0.980442  \n",
      "nitrous_oxide       1.000000  \n"
     ]
    },
    {
     "data": {
      "image/png": "[encoded data removed]",
      "text/plain": [
       "<Figure size 800x600 with 2 Axes>"
      ]
     },
     "metadata": {},
     "output_type": "display_data"
    }
   ],
   "source": [
    "\n",
    "# Select key columns for the correlation analysis.\n",
    "columns_for_corr = ['co2', 'cement_co2', 'coal_co2', 'oil_co2', 'methane', 'nitrous_oxide']\n",
    "\n",
    "\n",
    "corr_data = data_clean[columns_for_corr].dropna()\n",
    "\n",
    "# Compute the correlation matrix.\n",
    "corr_matrix = corr_data.corr()\n",
    "\n",
    "\n",
    "print(\"=== Correlation Matrix ===\")\n",
    "print(corr_matrix)\n",
    "\n",
    "# Plotting the correlation matrix\n",
    "plt.figure(figsize=(8, 6))\n",
    "plt.imshow(corr_matrix, cmap='coolwarm', interpolation='none', aspect='auto')\n",
    "plt.colorbar(label='Correlation Coefficient')\n",
    "plt.xticks(range(len(columns_for_corr)), columns_for_corr, rotation=45)\n",
    "plt.yticks(range(len(columns_for_corr)), columns_for_corr)\n",
    "plt.title(\"Correlation Matrix of Selected Emission Indicators\")\n",
    "plt.tight_layout()\n",
    "plt.show()\n"
   ]
  },
  {
   "cell_type": "markdown",
   "id": "1e678417",
   "metadata": {},
   "source": [
    "The correlation matrix of key emission indicators reveals uniformly strong positive relationships, indicating that different sources of greenhouse gases tend to rise and fall together globally. Total CO₂ emissions correlate most closely with oil CO₂ (r ≈ 0.97) and coal CO₂ (r ≈ 0.96), reflecting the continued dominance of fossil fuels. Methane and nitrous oxide emissions also track closely with total CO₂ (r ≈ 0.92 and r ≈ 0.95, respectively) and exhibit an exceptionally high inter‑gas correlation (r ≈ 0.98), suggesting common agricultural and industrial drivers. Cement CO₂ shows slightly weaker—but still substantial—links to other sources (r ≈ 0.79–0.91). Overall, these patterns underscore how economic activity, energy use, and land‑use practices jointly drive multiple greenhouse‑gas emissions, reinforcing the need for integrated mitigation strategies.  \n"
   ]
  },
  {
   "cell_type": "markdown",
   "id": "0619ef70",
   "metadata": {},
   "source": [
    "# Country-Level Analysis\n",
    "\n",
    "**Indicators**: Total CO₂ emissions (co2) and CO₂ emissions per capita (co2_per_capita) over time for each country.\n",
    "\n",
    "**Objective**: Identify the top 10 emitting countries in the most recent year of data and analyze how their total and per capita CO₂ emissions have evolved over time. This helps in understanding both the overall scale of emissions and the individual impact relative to population.\n",
    "\n",
    "**Approach**: First, the data is filtered to include only the most recent year to identify the top 10 countries by total CO₂ emissions. Then, the dataset is further filtered to include only these top emitters. Two line plots are created: one showing the trend of total CO₂ emissions over time for each of the top emitters, and another showing their emissions per capita over time. These visualizations provide insights into how emission patterns have shifted both in aggregate and on a per-person basis, highlighting differences in national responsibilities and behaviors. \n",
    "\n",
    "This includes two plots:\n",
    "- **Total CO₂ Emissions** over time.\n",
    "- **CO₂ Emissions Per Capita** over time.\n"
   ]
  },
  {
   "cell_type": "code",
   "execution_count": 7,
   "id": "2ddee8f6",
   "metadata": {},
   "outputs": [
    {
     "name": "stdout",
     "output_type": "stream",
     "text": [
      "Top emitters in 2023: ['World' 'Non-OECD (GCP)' 'Asia' 'Asia (GCP)'\n",
      " 'Upper-middle-income countries' 'High-income countries' 'China'\n",
      " 'OECD (GCP)' 'Asia (excl. China and India)' 'North America']\n"
     ]
    },
    {
     "data": {
      "image/png": "[encoded data removed]",
      "text/plain": [
       "<Figure size 1200x600 with 1 Axes>"
      ]
     },
     "metadata": {},
     "output_type": "display_data"
    },
    {
     "data": {
      "image/png": "[encoded data removed]",
      "text/plain": [
       "<Figure size 1200x600 with 1 Axes>"
      ]
     },
     "metadata": {},
     "output_type": "display_data"
    }
   ],
   "source": [
    "# Identify the latest year in the dataset.\n",
    "latest_year = data_clean['year'].max()\n",
    "latest_data = data_clean[data_clean['year'] == latest_year]\n",
    "\n",
    "# Get top 10 emitters by total CO2 emissions in the latest year.\n",
    "top_emitters = latest_data.sort_values(by='co2', ascending=False)['country'].unique()[:10]\n",
    "print(\"Top emitters in {}:\".format(latest_year), top_emitters)\n",
    "\n",
    "# Filter the data for these top emitters.\n",
    "data_top_emitters = data_clean[data_clean['country'].isin(top_emitters)]\n",
    "\n",
    "# Plot total CO2 emissions over time for the top emitters.\n",
    "plt.figure(figsize=(12, 6))\n",
    "for country in top_emitters:\n",
    "    df_country = data_top_emitters[data_top_emitters['country'] == country]\n",
    "    plt.plot(df_country['year'], df_country['co2'], marker='o', label=country)\n",
    "plt.title(\"CO₂ Emissions Trends for Top Emitters\")\n",
    "plt.xlabel(\"Year\")\n",
    "plt.ylabel(\"Total CO₂ Emissions\")\n",
    "plt.legend()\n",
    "plt.grid(True)\n",
    "plt.show()\n",
    "\n",
    "# Plot CO2 emissions per capita over time for the top emitters.\n",
    "plt.figure(figsize=(12, 6))\n",
    "for country in top_emitters:\n",
    "    df_country = data_top_emitters[data_top_emitters['country'] == country]\n",
    "    plt.plot(df_country['year'], df_country['co2_per_capita'], marker='o', label=country)\n",
    "plt.title(\"CO₂ Emissions Per Capita Trends for Top Emitters\")\n",
    "plt.xlabel(\"Year\")\n",
    "plt.ylabel(\"CO₂ Emissions Per Capita\")\n",
    "plt.legend()\n",
    "plt.grid(True)\n",
    "plt.show()\n"
   ]
  },
  {
   "cell_type": "markdown",
   "id": "0dca2e80",
   "metadata": {},
   "source": [
    "The visualizations reveal striking contrasts between regions in both total and per capita CO₂ emissions. In the first plot showing total emissions over time, China exhibits a steep upward trajectory, overtaking high-income countries after the early 2000s and becoming the largest overall emitter by 2023. In contrast, the second plot on per capita emissions shows that high-income regions, especially North America, have consistently maintained the highest emissions per person across the timeline. Despite China’s rapid growth in total emissions, its per capita values remain below those of wealthier nations. These trends highlight how population size, economic development, and consumption patterns shape emission dynamics—while China leads in total output, high-income countries continue to have a significantly larger carbon footprint per individual."
   ]
  },
  {
   "cell_type": "markdown",
   "id": "ff2b5aad",
   "metadata": {},
   "source": [
    "# Fuel-Specific (Sectoral) Deep Dives\n",
    "\n",
    "**Indicators:** CO₂ emissions specifically from cement (`cement_co2`), coal (`coal_co2`), and oil (`oil_co2`) usage over time, aggregated at the global level.  \n",
    "\n",
    "**Objective:** Explore how emissions from different fuel sources have evolved globally, shedding light on changing patterns in industrial activities and energy consumption. This comparison helps to identify which sectors are becoming more or less prominent contributors to global CO₂ emissions.  \n",
    "\n",
    "**Approach:** The dataset is grouped by year, summing the emissions from cement, coal, and oil across all countries to obtain global totals for each fuel source. These aggregated values are then visualized through a multi-line plot, allowing for direct comparison of trends in emissions from each fuel type over time. The resulting visualization highlights sectoral shifts, such as the growth or decline of particular fuel sources, and supports interpretation of broader energy transitions and policy impacts."
   ]
  },
  {
   "cell_type": "code",
   "execution_count": 8,
   "id": "61872055",
   "metadata": {},
   "outputs": [
    {
     "data": {
      "image/png": "[encoded data removed]",
      "text/plain": [
       "<Figure size 1200x600 with 1 Axes>"
      ]
     },
     "metadata": {},
     "output_type": "display_data"
    }
   ],
   "source": [
    "# Aggregate global fuel-specific emissions by year.\n",
    "global_fuel = data_clean.groupby('year').agg({\n",
    "    'cement_co2': 'sum',\n",
    "    'coal_co2': 'sum',\n",
    "    'oil_co2': 'sum'\n",
    "}).reset_index()\n",
    "\n",
    "plt.figure(figsize=(12, 6))\n",
    "plt.plot(global_fuel['year'], global_fuel['cement_co2'], marker='o', label='Cement CO₂')\n",
    "plt.plot(global_fuel['year'], global_fuel['coal_co2'], marker='o', label='Coal CO₂')\n",
    "plt.plot(global_fuel['year'], global_fuel['oil_co2'], marker='o', label='Oil CO₂')\n",
    "plt.title(\"Global Fuel-Specific CO₂ Emissions Trends\")\n",
    "plt.xlabel(\"Year\")\n",
    "plt.ylabel(\"CO₂ Emissions\")\n",
    "plt.legend()\n",
    "plt.grid(True)\n",
    "plt.show()\n"
   ]
  },
  {
   "cell_type": "markdown",
   "id": "4f33efe7",
   "metadata": {},
   "source": [
    "The fuel‑specific CO₂ trends highlight distinct historical trajectories: **coal** led the early industrial era, rising steadily from the 19th century to peak around 1960 before plateauing and then surging again into the 21st century (now exceeding 65 Gt). **Oil** overtook coal in the mid‑20th century, climbing rapidly after 1950 and maintaining growth to roughly 55 Gt by 2023, reflecting the global shift to petroleum. **Cement** emissions, though much smaller, have grown exponentially since the 1950s—reaching over 7 Gt—driven by urbanization and infrastructure expansion. Together, these patterns illustrate how different sectors dominated successive phases of economic development: coal powered early industrialization, oil fueled mass mobility and modern economies, and cement production underpins today’s urban growth. This sectoral breakdown underscores the need for targeted mitigation—phasing down coal, decarbonizing oil use, and innovating low‑carbon cement technologies.  \n"
   ]
  },
  {
   "cell_type": "markdown",
   "id": "dcca7a5a",
   "metadata": {},
   "source": [
    "# Temperature Change & Greenhouse Gases Analysis\n",
    "\n",
    "**Indicators:** This analysis focuses on average annual temperature change attributed to individual greenhouse gases — carbon dioxide (`temperature_change_from_co2`), methane (`temperature_change_from_ch4`), nitrous oxide (`temperature_change_from_n2o`), and overall greenhouse gases (`temperature_change_from_ghg`) — as well as total CO₂ emissions (`co2`).  \n",
    "\n",
    "**Objective:** The goal is to assess the relative contributions of different greenhouse gases to global temperature rise over time and to evaluate the direct relationship between total CO₂ emissions and the temperature change driven specifically by CO₂.  \n",
    "\n",
    "**Approach:** First, average temperature change contributions from each gas are computed for every year by aggregating country-level data, allowing for global-level visualization of how each gas has contributed to warming trends over time. This is visualized via a multi-line plot to highlight differences and overlaps in warming impacts across gases. Next, a scatter plot is created to directly compare total CO₂ emissions against temperature change from CO₂, aiming to visually assess the correlation between rising emissions and their associated warming effects.\n",
    "\n"
   ]
  },
  {
   "cell_type": "code",
   "execution_count": 9,
   "id": "c13ec43b",
   "metadata": {},
   "outputs": [
    {
     "data": {
      "image/png": "[encoded data removed]",
      "text/plain": [
       "<Figure size 1200x600 with 1 Axes>"
      ]
     },
     "metadata": {},
     "output_type": "display_data"
    },
    {
     "data": {
      "image/png": "[encoded data removed]",
      "text/plain": [
       "<Figure size 800x600 with 1 Axes>"
      ]
     },
     "metadata": {},
     "output_type": "display_data"
    }
   ],
   "source": [
    "# Aggregate the average temperature change contributions by year.\n",
    "temp_change = data_clean.groupby('year').agg({\n",
    "    'temperature_change_from_co2': 'mean',\n",
    "    'temperature_change_from_ch4': 'mean',\n",
    "    'temperature_change_from_ghg': 'mean',\n",
    "    'temperature_change_from_n2o': 'mean'\n",
    "}).reset_index()\n",
    "\n",
    "plt.figure(figsize=(12, 6))\n",
    "plt.plot(temp_change['year'], temp_change['temperature_change_from_co2'], marker='o', label='CO₂')\n",
    "plt.plot(temp_change['year'], temp_change['temperature_change_from_ch4'], marker='o', label='CH₄')\n",
    "plt.plot(temp_change['year'], temp_change['temperature_change_from_ghg'], marker='o', label='Overall GHG')\n",
    "plt.plot(temp_change['year'], temp_change['temperature_change_from_n2o'], marker='o', label='N₂O')\n",
    "plt.title(\"Average Temperature Change Contributions Over Time\")\n",
    "plt.xlabel(\"Year\")\n",
    "plt.ylabel(\"Temperature Change\")\n",
    "plt.legend()\n",
    "plt.grid(True)\n",
    "plt.show()\n",
    "\n",
    "# Scatter plot: Total CO₂ emissions vs. Temperature change from CO₂.\n",
    "plt.figure(figsize=(8, 6))\n",
    "plt.scatter(data_clean['co2'], data_clean['temperature_change_from_co2'], alpha=0.5)\n",
    "plt.title(\"Total CO₂ Emissions vs. Temperature Change from CO₂\")\n",
    "plt.xlabel(\"Total CO₂ Emissions\")\n",
    "plt.ylabel(\"Temperature Change from CO₂\")\n",
    "plt.grid(True)\n",
    "plt.show()\n"
   ]
  },
  {
   "cell_type": "markdown",
   "id": "b75e1942",
   "metadata": {},
   "source": [
    "The visual analysis reveals that carbon dioxide (CO₂) is the primary contributor to global temperature change among the greenhouse gases, with its influence increasing steadily and sharply, especially after the 1950s—likely due to industrial expansion post-World War II. Methane (CH₄) and nitrous oxide (N₂O) also contribute to warming, but their impacts are significantly smaller, with CH₄ showing a gradual rise and N₂O remaining relatively stable until a slight increase in recent decades. The overall greenhouse gas (GHG) temperature change trend closely mirrors that of CO₂, confirming its dominant role. A strong positive correlation is evident between total CO₂ emissions and temperature change from CO₂, as shown in the scatter plot, where emissions and temperature rise together in a nonlinear, accelerating pattern. This suggests that as CO₂ emissions increase, their warming effect intensifies disproportionately. The clustering of data points also indicates common emission behaviors, while some outliers may reflect country-specific variations or abrupt industrial changes. Overall, the data underscores the urgent need to reduce CO₂ emissions to mitigate their escalating impact on global temperatures."
   ]
  },
  {
   "cell_type": "markdown",
   "id": "1a7ef1b5",
   "metadata": {},
   "source": [
    "# Interactive Visualizations\n",
    "\n",
    "**Indicators:** This dashboard focuses on country-level trends of total CO₂ emissions and CO₂ emissions per capita (`co2_per_capita`) over time.  \n",
    "\n",
    "**Objective:** The purpose is to enable an intuitive and dynamic exploration of how emissions profiles have changed for individual countries, helping users better understand national-level emission patterns and their evolution over time.  \n",
    "\n",
    "**Approach:** An interactive dashboard is implemented using a dropdown menu to allow users to select a country of interest. Upon selection, two line plots are displayed: one showing total CO₂ emissions across years, and another showing CO₂ emissions per capita. This facilitates a side-by-side analysis of both absolute and population-adjusted emission trends, offering deeper insight into national contributions and trajectories in global climate impact."
   ]
  },
  {
   "cell_type": "code",
   "execution_count": 26,
   "id": "abc45c15",
   "metadata": {},
   "outputs": [
    {
     "data": {
      "application/vnd.jupyter.widget-view+json": {
       "model_id": "c6a6444ee1354384b6aebb8e8eb6a85a",
       "version_major": 2,
       "version_minor": 0
      },
      "text/plain": [
       "interactive(children=(Dropdown(description='Country:', options=('Afghanistan', 'Africa', 'Africa (GCP)', 'Alba…"
      ]
     },
     "execution_count": 26,
     "metadata": {},
     "output_type": "execute_result"
    }
   ],
   "source": [
    "import ipywidgets as widgets\n",
    "from IPython.display import display\n",
    "\n",
    "# Prepare a sorted list of unique countries for the dropdown.\n",
    "unique_countries = sorted(data_clean['country'].unique())\n",
    "country_dropdown = widgets.Dropdown(options=unique_countries, description='Country:')\n",
    "\n",
    "def interactive_country_plots(country):\n",
    "    df = data_clean[data_clean['country'] == country].sort_values(by='year')\n",
    "    fig, ax1 = plt.subplots(figsize=(12,6))\n",
    "    # Plot total CO2 on the primary y-axis.\n",
    "    ax1.plot(df['year'], df['co2'], marker='o', label='Total CO₂', color='blue')\n",
    "    ax1.set_xlabel(\"Year\")\n",
    "    ax1.set_ylabel(\"Total CO₂\", color='blue')\n",
    "    ax1.tick_params(axis='y', labelcolor='blue')\n",
    "    \n",
    "    # Create a secondary axis for CO2 per capita.\n",
    "    ax2 = ax1.twinx()\n",
    "    ax2.plot(df['year'], df['co2_per_capita'], marker='o', label='CO₂ per Capita', color='green')\n",
    "    ax2.set_ylabel(\"CO₂ per Capita\", color='green')\n",
    "    ax2.tick_params(axis='y', labelcolor='green')\n",
    "    \n",
    "    plt.title(f\"Emissions Trends for {country}\")\n",
    "    plt.show()\n",
    "\n",
    "# Display the interactive widget.\n",
    "widgets.interactive(interactive_country_plots, country=country_dropdown)\n"
   ]
  },
  {
   "cell_type": "markdown",
   "id": "42561e9e",
   "metadata": {},
   "source": [
    "The CO2 emissions data for Afghanistan reveals a compelling narrative of environmental impact over seven decades. Starting from minimal levels in 1950, emissions remained relatively low until approximately 2000, with a notable peak in the mid-1980s followed by a decline through the 1990s. The most striking feature is the dramatic surge around 2005-2010, when both total and per capita emissions increased dramatically, with total CO2 emissions jumping from about 1-2 units to nearly 12 units by 2020—a roughly 6-fold increase in a short period. While per capita emissions (shown in green) exhibited greater volatility throughout, reaching their peak of approximately 0.40 units around 2010, they have since decreased somewhat even as total emissions continued climbing, suggesting population growth may be outpacing emissions growth in recent years. This pattern of correlation before 2000 and divergence after 2010 likely reflects Afghanistan's complex political and economic history, with periods of conflict, reconstruction, and development significantly influencing energy consumption and industrial activity throughout the nation."
   ]
  },
  {
   "cell_type": "markdown",
   "id": "21f9a725",
   "metadata": {},
   "source": [
    "# World Map: Global Distribution of CO₂ Emissions\n",
    "\n",
    "**Indicators:** This visualization displays total CO₂ emissions (`co2`) by country for the most recent year available in the dataset.  \n",
    "\n",
    "**Objective:** The aim is to visually communicate the global distribution of CO₂ emissions, making it easy to identify major contributors and understand regional disparities in emissions.  \n",
    "\n",
    "**Approach:** Using country ISO codes, emissions are aggregated for each country and plotted on an interactive choropleth world map. Countries are shaded according to their emission levels, with a color gradient enhancing the distinction between low and high emitters. Users can hover over countries to view names and exact emission values. The map employs a natural earth projection and a Plasma color scale to ensure readability and aesthetic clarity."
   ]
  },
  {
   "cell_type": "code",
   "execution_count": null,
   "id": "34f414b5",
   "metadata": {},
   "outputs": [
    {
     "data": {
      "application/vnd.plotly.v1+json": {
       "config": {
        "plotlyServerURL": "https://plot.ly"
       },
       "data": [
        {
         "coloraxis": "coloraxis",
         "geo": "geo",
         "hovertemplate": "<b>%{hovertext}</b><br><br>iso_code=%{location}<br>CO₂ Emissions=%{z}<extra></extra>",
         "hovertext": [
          "Aruba",
          "Afghanistan",
          "Angola",
          "Anguilla",
          "Albania",
          "Andorra",
          "United Arab Emirates",
          "Argentina",
          "Armenia",
          "Antarctica",
          "Antigua and Barbuda",
          "Australia",
          "Austria",
          "Azerbaijan",
          "Burundi",
          "Belgium",
          "Benin",
          "Bonaire Sint Eustatius and Saba",
          "Burkina Faso",
          "Bangladesh",
          "Bulgaria",
          "Bahrain",
          "Bahamas",
          "Bosnia and Herzegovina",
          "Belarus",
          "Belize",
          "Bermuda",
          "Bolivia",
          "Brazil",
          "Barbados",
          "Brunei",
          "Bhutan",
          "Botswana",
          "Central African Republic",
          "Canada",
          "Switzerland",
          "Chile",
          "China",
          "Cote d'Ivoire",
          "Cameroon",
          "Democratic Republic of Congo",
          "Congo",
          "Cook Islands",
          "Colombia",
          "Comoros",
          "Cape Verde",
          "Costa Rica",
          "Cuba",
          "Curacao",
          "Christmas Island",
          "Cyprus",
          "Czechia",
          "Germany",
          "Djibouti",
          "Dominica",
          "Denmark",
          "Dominican Republic",
          "Algeria",
          "Ecuador",
          "Egypt",
          "Eritrea",
          "Spain",
          "Estonia",
          "Ethiopia",
          "Finland",
          "Fiji",
          "France",
          "Faroe Islands",
          "Micronesia (country)",
          "Gabon",
          "United Kingdom",
          "Georgia",
          "Ghana",
          "Guinea",
          "Gambia",
          "Guinea-Bissau",
          "Equatorial Guinea",
          "Greece",
          "Grenada",
          "Greenland",
          "Guatemala",
          "Guyana",
          "Hong Kong",
          "Honduras",
          "Croatia",
          "Haiti",
          "Hungary",
          "Indonesia",
          "India",
          "Ireland",
          "Iran",
          "Iraq",
          "Iceland",
          "Israel",
          "Italy",
          "Jamaica",
          "Jordan",
          "Japan",
          "Kazakhstan",
          "Kenya",
          "Kyrgyzstan",
          "Cambodia",
          "Kiribati",
          "Saint Kitts and Nevis",
          "South Korea",
          "Kuwait",
          "Laos",
          "Lebanon",
          "Liberia",
          "Libya",
          "Saint Lucia",
          "Liechtenstein",
          "Sri Lanka",
          "Lesotho",
          "Lithuania",
          "Luxembourg",
          "Latvia",
          "Macao",
          "Morocco",
          "Moldova",
          "Madagascar",
          "Maldives",
          "Mexico",
          "Marshall Islands",
          "North Macedonia",
          "Mali",
          "Malta",
          "Myanmar",
          "Montenegro",
          "Mongolia",
          "Mozambique",
          "Mauritania",
          "Montserrat",
          "Mauritius",
          "Malawi",
          "Malaysia",
          "Namibia",
          "New Caledonia",
          "Niger",
          "Nigeria",
          "Nicaragua",
          "Niue",
          "Netherlands",
          "Norway",
          "Nepal",
          "Nauru",
          "New Zealand",
          "Oman",
          "Pakistan",
          "Panama",
          "Peru",
          "Philippines",
          "Palau",
          "Papua New Guinea",
          "Poland",
          "North Korea",
          "Portugal",
          "Paraguay",
          "Palestine",
          "French Polynesia",
          "Qatar",
          "Romania",
          "Russia",
          "Rwanda",
          "Saudi Arabia",
          "Sudan",
          "Senegal",
          "Singapore",
          "Saint Helena",
          "Solomon Islands",
          "Sierra Leone",
          "El Salvador",
          "Somalia",
          "Saint Pierre and Miquelon",
          "Serbia",
          "South Sudan",
          "Sao Tome and Principe",
          "Suriname",
          "Slovakia",
          "Slovenia",
          "Sweden",
          "Eswatini",
          "Sint Maarten (Dutch part)",
          "Seychelles",
          "Syria",
          "Turks and Caicos Islands",
          "Chad",
          "Togo",
          "Thailand",
          "Tajikistan",
          "Turkmenistan",
          "East Timor",
          "Tonga",
          "Trinidad and Tobago",
          "Tunisia",
          "Turkey",
          "Tuvalu",
          "Taiwan",
          "Tanzania",
          "Uganda",
          "Ukraine",
          "Uruguay",
          "United States",
          "Uzbekistan",
          "Saint Vincent and the Grenadines",
          "Venezuela",
          "British Virgin Islands",
          "Vietnam",
          "Vanuatu",
          "Wallis and Futuna",
          "Samoa",
          "Yemen",
          "South Africa",
          "Zambia",
          "Zimbabwe"
         ],
         "locations": [
          "ABW",
          "AFG",
          "AGO",
          "AIA",
          "ALB",
          "AND",
          "ARE",
          "ARG",
          "ARM",
          "ATA",
          "ATG",
          "AUS",
          "AUT",
          "AZE",
          "BDI",
          "BEL",
          "BEN",
          "BES",
          "BFA",
          "BGD",
          "BGR",
          "BHR",
          "BHS",
          "BIH",
          "BLR",
          "BLZ",
          "BMU",
          "BOL",
          "BRA",
          "BRB",
          "BRN",
          "BTN",
          "BWA",
          "CAF",
          "CAN",
          "CHE",
          "CHL",
          "CHN",
          "CIV",
          "CMR",
          "COD",
          "COG",
          "COK",
          "COL",
          "COM",
          "CPV",
          "CRI",
          "CUB",
          "CUW",
          "CXR",
          "CYP",
          "CZE",
          "DEU",
          "DJI",
          "DMA",
          "DNK",
          "DOM",
          "DZA",
          "ECU",
          "EGY",
          "ERI",
          "ESP",
          "EST",
          "ETH",
          "FIN",
          "FJI",
          "FRA",
          "FRO",
          "FSM",
          "GAB",
          "GBR",
          "GEO",
          "GHA",
          "GIN",
          "GMB",
          "GNB",
          "GNQ",
          "GRC",
          "GRD",
          "GRL",
          "GTM",
          "GUY",
          "HKG",
          "HND",
          "HRV",
          "HTI",
          "HUN",
          "IDN",
          "IND",
          "IRL",
          "IRN",
          "IRQ",
          "ISL",
          "ISR",
          "ITA",
          "JAM",
          "JOR",
          "JPN",
          "KAZ",
          "KEN",
          "KGZ",
          "KHM",
          "KIR",
          "KNA",
          "KOR",
          "KWT",
          "LAO",
          "LBN",
          "LBR",
          "LBY",
          "LCA",
          "LIE",
          "LKA",
          "LSO",
          "LTU",
          "LUX",
          "LVA",
          "MAC",
          "MAR",
          "MDA",
          "MDG",
          "MDV",
          "MEX",
          "MHL",
          "MKD",
          "MLI",
          "MLT",
          "MMR",
          "MNE",
          "MNG",
          "MOZ",
          "MRT",
          "MSR",
          "MUS",
          "MWI",
          "MYS",
          "NAM",
          "NCL",
          "NER",
          "NGA",
          "NIC",
          "NIU",
          "NLD",
          "NOR",
          "NPL",
          "NRU",
          "NZL",
          "OMN",
          "PAK",
          "PAN",
          "PER",
          "PHL",
          "PLW",
          "PNG",
          "POL",
          "PRK",
          "PRT",
          "PRY",
          "PSE",
          "PYF",
          "QAT",
          "ROU",
          "RUS",
          "RWA",
          "SAU",
          "SDN",
          "SEN",
          "SGP",
          "SHN",
          "SLB",
          "SLE",
          "SLV",
          "SOM",
          "SPM",
          "SRB",
          "SSD",
          "STP",
          "SUR",
          "SVK",
          "SVN",
          "SWE",
          "SWZ",
          "SXM",
          "SYC",
          "SYR",
          "TCA",
          "TCD",
          "TGO",
          "THA",
          "TJK",
          "TKM",
          "TLS",
          "TON",
          "TTO",
          "TUN",
          "TUR",
          "TUV",
          "TWN",
          "TZA",
          "UGA",
          "UKR",
          "URY",
          "USA",
          "UZB",
          "VCT",
          "VEN",
          "VGB",
          "VNM",
          "VUT",
          "WLF",
          "WSM",
          "YEM",
          "ZAF",
          "ZMB",
          "ZWE"
         ],
         "name": "",
         "type": "choropleth",
         "z": [
          0.867,
          11.02,
          20.781,
          0.145,
          5.144,
          0.424,
          229.384,
          195.806,
          7.608,
          0,
          0.645,
          382.972,
          58.578,
          43.937,
          0.71,
          83.368,
          5.592,
          0.115,
          6.187,
          113.427,
          36.094,
          36.527,
          2.505,
          20.179,
          56.491,
          0.668,
          0.523,
          23.359,
          486.47,
          1.192,
          11.77,
          1.713,
          6.714,
          0.281,
          549.299,
          32.737,
          77.288,
          11902.503,
          13.196,
          9.941,
          4.616,
          7.674,
          0.073,
          105.239,
          0.449,
          0.535,
          8.279,
          23.097,
          2.023,
          0,
          7.174,
          85.624,
          596.151,
          0.493,
          0.163,
          27.265,
          32.02,
          178.133,
          43.173,
          269.006,
          0.621,
          221.616,
          10.019,
          15.227,
          31.622,
          1.146,
          272.476,
          0.798,
          0.149,
          5.411,
          305.146,
          11.769,
          19.647,
          4.043,
          0.711,
          0.298,
          6.141,
          55.196,
          0.339,
          0.596,
          20.382,
          3.545,
          33.871,
          11.042,
          17.524,
          3.522,
          40.19,
          733.224,
          3062.324,
          34.433,
          817.88,
          176.458,
          3.762,
          59.489,
          313.461,
          7.649,
          21.189,
          988.785,
          255.161,
          21.531,
          10.152,
          20.178,
          0.069,
          0.233,
          577.417,
          99.233,
          24.796,
          19.475,
          0.771,
          60.976,
          0.511,
          0.157,
          20.318,
          3.889,
          12.462,
          6.993,
          6.513,
          1.057,
          68.668,
          5.962,
          4.476,
          2.062,
          482.623,
          0.153,
          7.449,
          6.762,
          1.822,
          30.233,
          2.328,
          46.87,
          8.023,
          4.413,
          0.022,
          4.139,
          1.752,
          288.824,
          4.174,
          5.068,
          2.598,
          128.54,
          5.588,
          0.008,
          118.668,
          38.901,
          16.677,
          0.057,
          30.119,
          78.511,
          200.667,
          14.018,
          55.864,
          154.579,
          0.222,
          8.322,
          289.282,
          60.764,
          37.228,
          8.139,
          3.497,
          0.916,
          115.712,
          68.239,
          1815.925,
          1.54,
          736.205,
          20.001,
          11.901,
          49.253,
          0.011,
          0.303,
          1.232,
          8.23,
          0.558,
          0.056,
          42.358,
          1.58,
          0.166,
          2.647,
          30.739,
          11.328,
          36.556,
          1.104,
          0.693,
          0.551,
          25.503,
          0.371,
          3.079,
          2.62,
          264.389,
          9.055,
          63.363,
          0.632,
          0.199,
          34.318,
          32.793,
          432.077,
          0.012,
          261.153,
          18.066,
          5.614,
          136.461,
          7.866,
          4911.391,
          124.768,
          0.237,
          99.569,
          0.185,
          334.726,
          0.226,
          0.031,
          0.257,
          10.035,
          401.893,
          7.749,
          11.164
         ]
        }
       ],
       "layout": {
        "coloraxis": {
         "colorbar": {
          "title": {
           "text": "CO₂ Emissions"
          }
         },
         "colorscale": [
          [
           0,
           "#0d0887"
          ],
          [
           0.1111111111111111,
           "#46039f"
          ],
          [
           0.2222222222222222,
           "#7201a8"
          ],
          [
           0.3333333333333333,
           "#9c179e"
          ],
          [
           0.4444444444444444,
           "#bd3786"
          ],
          [
           0.5555555555555556,
           "#d8576b"
          ],
          [
           0.6666666666666666,
           "#ed7953"
          ],
          [
           0.7777777777777778,
           "#fb9f3a"
          ],
          [
           0.8888888888888888,
           "#fdca26"
          ],
          [
           1,
           "#f0f921"
          ]
         ]
        },
        "geo": {
         "center": {},
         "domain": {
          "x": [
           0,
           1
          ],
          "y": [
           0,
           1
          ]
         },
         "projection": {
          "type": "natural earth"
         }
        },
        "legend": {
         "tracegroupgap": 0
        },
        "margin": {
         "b": 0,
         "l": 0,
         "r": 0,
         "t": 50
        },
        "template": {
         "data": {
          "bar": [
           {
            "error_x": {
             "color": "#2a3f5f"
            },
            "error_y": {
             "color": "#2a3f5f"
            },
            "marker": {
             "line": {
              "color": "#E5ECF6",
              "width": 0.5
             },
             "pattern": {
              "fillmode": "overlay",
              "size": 10,
              "solidity": 0.2
             }
            },
            "type": "bar"
           }
          ],
          "barpolar": [
           {
            "marker": {
             "line": {
              "color": "#E5ECF6",
              "width": 0.5
             },
             "pattern": {
              "fillmode": "overlay",
              "size": 10,
              "solidity": 0.2
             }
            },
            "type": "barpolar"
           }
          ],
          "carpet": [
           {
            "aaxis": {
             "endlinecolor": "#2a3f5f",
             "gridcolor": "white",
             "linecolor": "white",
             "minorgridcolor": "white",
             "startlinecolor": "#2a3f5f"
            },
            "baxis": {
             "endlinecolor": "#2a3f5f",
             "gridcolor": "white",
             "linecolor": "white",
             "minorgridcolor": "white",
             "startlinecolor": "#2a3f5f"
            },
            "type": "carpet"
           }
          ],
          "choropleth": [
           {
            "colorbar": {
             "outlinewidth": 0,
             "ticks": ""
            },
            "type": "choropleth"
           }
          ],
          "contour": [
           {
            "colorbar": {
             "outlinewidth": 0,
             "ticks": ""
            },
            "colorscale": [
             [
              0,
              "#0d0887"
             ],
             [
              0.1111111111111111,
              "#46039f"
             ],
             [
              0.2222222222222222,
              "#7201a8"
             ],
             [
              0.3333333333333333,
              "#9c179e"
             ],
             [
              0.4444444444444444,
              "#bd3786"
             ],
             [
              0.5555555555555556,
              "#d8576b"
             ],
             [
              0.6666666666666666,
              "#ed7953"
             ],
             [
              0.7777777777777778,
              "#fb9f3a"
             ],
             [
              0.8888888888888888,
              "#fdca26"
             ],
             [
              1,
              "#f0f921"
             ]
            ],
            "type": "contour"
           }
          ],
          "contourcarpet": [
           {
            "colorbar": {
             "outlinewidth": 0,
             "ticks": ""
            },
            "type": "contourcarpet"
           }
          ],
          "heatmap": [
           {
            "colorbar": {
             "outlinewidth": 0,
             "ticks": ""
            },
            "colorscale": [
             [
              0,
              "#0d0887"
             ],
             [
              0.1111111111111111,
              "#46039f"
             ],
             [
              0.2222222222222222,
              "#7201a8"
             ],
             [
              0.3333333333333333,
              "#9c179e"
             ],
             [
              0.4444444444444444,
              "#bd3786"
             ],
             [
              0.5555555555555556,
              "#d8576b"
             ],
             [
              0.6666666666666666,
              "#ed7953"
             ],
             [
              0.7777777777777778,
              "#fb9f3a"
             ],
             [
              0.8888888888888888,
              "#fdca26"
             ],
             [
              1,
              "#f0f921"
             ]
            ],
            "type": "heatmap"
           }
          ],
          "heatmapgl": [
           {
            "colorbar": {
             "outlinewidth": 0,
             "ticks": ""
            },
            "colorscale": [
             [
              0,
              "#0d0887"
             ],
             [
              0.1111111111111111,
              "#46039f"
             ],
             [
              0.2222222222222222,
              "#7201a8"
             ],
             [
              0.3333333333333333,
              "#9c179e"
             ],
             [
              0.4444444444444444,
              "#bd3786"
             ],
             [
              0.5555555555555556,
              "#d8576b"
             ],
             [
              0.6666666666666666,
              "#ed7953"
             ],
             [
              0.7777777777777778,
              "#fb9f3a"
             ],
             [
              0.8888888888888888,
              "#fdca26"
             ],
             [
              1,
              "#f0f921"
             ]
            ],
            "type": "heatmapgl"
           }
          ],
          "histogram": [
           {
            "marker": {
             "pattern": {
              "fillmode": "overlay",
              "size": 10,
              "solidity": 0.2
             }
            },
            "type": "histogram"
           }
          ],
          "histogram2d": [
           {
            "colorbar": {
             "outlinewidth": 0,
             "ticks": ""
            },
            "colorscale": [
             [
              0,
              "#0d0887"
             ],
             [
              0.1111111111111111,
              "#46039f"
             ],
             [
              0.2222222222222222,
              "#7201a8"
             ],
             [
              0.3333333333333333,
              "#9c179e"
             ],
             [
              0.4444444444444444,
              "#bd3786"
             ],
             [
              0.5555555555555556,
              "#d8576b"
             ],
             [
              0.6666666666666666,
              "#ed7953"
             ],
             [
              0.7777777777777778,
              "#fb9f3a"
             ],
             [
              0.8888888888888888,
              "#fdca26"
             ],
             [
              1,
              "#f0f921"
             ]
            ],
            "type": "histogram2d"
           }
          ],
          "histogram2dcontour": [
           {
            "colorbar": {
             "outlinewidth": 0,
             "ticks": ""
            },
            "colorscale": [
             [
              0,
              "#0d0887"
             ],
             [
              0.1111111111111111,
              "#46039f"
             ],
             [
              0.2222222222222222,
              "#7201a8"
             ],
             [
              0.3333333333333333,
              "#9c179e"
             ],
             [
              0.4444444444444444,
              "#bd3786"
             ],
             [
              0.5555555555555556,
              "#d8576b"
             ],
             [
              0.6666666666666666,
              "#ed7953"
             ],
             [
              0.7777777777777778,
              "#fb9f3a"
             ],
             [
              0.8888888888888888,
              "#fdca26"
             ],
             [
              1,
              "#f0f921"
             ]
            ],
            "type": "histogram2dcontour"
           }
          ],
          "mesh3d": [
           {
            "colorbar": {
             "outlinewidth": 0,
             "ticks": ""
            },
            "type": "mesh3d"
           }
          ],
          "parcoords": [
           {
            "line": {
             "colorbar": {
              "outlinewidth": 0,
              "ticks": ""
             }
            },
            "type": "parcoords"
           }
          ],
          "pie": [
           {
            "automargin": true,
            "type": "pie"
           }
          ],
          "scatter": [
           {
            "fillpattern": {
             "fillmode": "overlay",
             "size": 10,
             "solidity": 0.2
            },
            "type": "scatter"
           }
          ],
          "scatter3d": [
           {
            "line": {
             "colorbar": {
              "outlinewidth": 0,
              "ticks": ""
             }
            },
            "marker": {
             "colorbar": {
              "outlinewidth": 0,
              "ticks": ""
             }
            },
            "type": "scatter3d"
           }
          ],
          "scattercarpet": [
           {
            "marker": {
             "colorbar": {
              "outlinewidth": 0,
              "ticks": ""
             }
            },
            "type": "scattercarpet"
           }
          ],
          "scattergeo": [
           {
            "marker": {
             "colorbar": {
              "outlinewidth": 0,
              "ticks": ""
             }
            },
            "type": "scattergeo"
           }
          ],
          "scattergl": [
           {
            "marker": {
             "colorbar": {
              "outlinewidth": 0,
              "ticks": ""
             }
            },
            "type": "scattergl"
           }
          ],
          "scattermapbox": [
           {
            "marker": {
             "colorbar": {
              "outlinewidth": 0,
              "ticks": ""
             }
            },
            "type": "scattermapbox"
           }
          ],
          "scatterpolar": [
           {
            "marker": {
             "colorbar": {
              "outlinewidth": 0,
              "ticks": ""
             }
            },
            "type": "scatterpolar"
           }
          ],
          "scatterpolargl": [
           {
            "marker": {
             "colorbar": {
              "outlinewidth": 0,
              "ticks": ""
             }
            },
            "type": "scatterpolargl"
           }
          ],
          "scatterternary": [
           {
            "marker": {
             "colorbar": {
              "outlinewidth": 0,
              "ticks": ""
             }
            },
            "type": "scatterternary"
           }
          ],
          "surface": [
           {
            "colorbar": {
             "outlinewidth": 0,
             "ticks": ""
            },
            "colorscale": [
             [
              0,
              "#0d0887"
             ],
             [
              0.1111111111111111,
              "#46039f"
             ],
             [
              0.2222222222222222,
              "#7201a8"
             ],
             [
              0.3333333333333333,
              "#9c179e"
             ],
             [
              0.4444444444444444,
              "#bd3786"
             ],
             [
              0.5555555555555556,
              "#d8576b"
             ],
             [
              0.6666666666666666,
              "#ed7953"
             ],
             [
              0.7777777777777778,
              "#fb9f3a"
             ],
             [
              0.8888888888888888,
              "#fdca26"
             ],
             [
              1,
              "#f0f921"
             ]
            ],
            "type": "surface"
           }
          ],
          "table": [
           {
            "cells": {
             "fill": {
              "color": "#EBF0F8"
             },
             "line": {
              "color": "white"
             }
            },
            "header": {
             "fill": {
              "color": "#C8D4E3"
             },
             "line": {
              "color": "white"
             }
            },
            "type": "table"
           }
          ]
         },
         "layout": {
          "annotationdefaults": {
           "arrowcolor": "#2a3f5f",
           "arrowhead": 0,
           "arrowwidth": 1
          },
          "autotypenumbers": "strict",
          "coloraxis": {
           "colorbar": {
            "outlinewidth": 0,
            "ticks": ""
           }
          },
          "colorscale": {
           "diverging": [
            [
             0,
             "#8e0152"
            ],
            [
             0.1,
             "#c51b7d"
            ],
            [
             0.2,
             "#de77ae"
            ],
            [
             0.3,
             "#f1b6da"
            ],
            [
             0.4,
             "#fde0ef"
            ],
            [
             0.5,
             "#f7f7f7"
            ],
            [
             0.6,
             "#e6f5d0"
            ],
            [
             0.7,
             "#b8e186"
            ],
            [
             0.8,
             "#7fbc41"
            ],
            [
             0.9,
             "#4d9221"
            ],
            [
             1,
             "#276419"
            ]
           ],
           "sequential": [
            [
             0,
             "#0d0887"
            ],
            [
             0.1111111111111111,
             "#46039f"
            ],
            [
             0.2222222222222222,
             "#7201a8"
            ],
            [
             0.3333333333333333,
             "#9c179e"
            ],
            [
             0.4444444444444444,
             "#bd3786"
            ],
            [
             0.5555555555555556,
             "#d8576b"
            ],
            [
             0.6666666666666666,
             "#ed7953"
            ],
            [
             0.7777777777777778,
             "#fb9f3a"
            ],
            [
             0.8888888888888888,
             "#fdca26"
            ],
            [
             1,
             "#f0f921"
            ]
           ],
           "sequentialminus": [
            [
             0,
             "#0d0887"
            ],
            [
             0.1111111111111111,
             "#46039f"
            ],
            [
             0.2222222222222222,
             "#7201a8"
            ],
            [
             0.3333333333333333,
             "#9c179e"
            ],
            [
             0.4444444444444444,
             "#bd3786"
            ],
            [
             0.5555555555555556,
             "#d8576b"
            ],
            [
             0.6666666666666666,
             "#ed7953"
            ],
            [
             0.7777777777777778,
             "#fb9f3a"
            ],
            [
             0.8888888888888888,
             "#fdca26"
            ],
            [
             1,
             "#f0f921"
            ]
           ]
          },
          "colorway": [
           "#636efa",
           "#EF553B",
           "#00cc96",
           "#ab63fa",
           "#FFA15A",
           "#19d3f3",
           "#FF6692",
           "#B6E880",
           "#FF97FF",
           "#FECB52"
          ],
          "font": {
           "color": "#2a3f5f"
          },
          "geo": {
           "bgcolor": "white",
           "lakecolor": "white",
           "landcolor": "#E5ECF6",
           "showlakes": true,
           "showland": true,
           "subunitcolor": "white"
          },
          "hoverlabel": {
           "align": "left"
          },
          "hovermode": "closest",
          "mapbox": {
           "style": "light"
          },
          "paper_bgcolor": "white",
          "plot_bgcolor": "#E5ECF6",
          "polar": {
           "angularaxis": {
            "gridcolor": "white",
            "linecolor": "white",
            "ticks": ""
           },
           "bgcolor": "#E5ECF6",
           "radialaxis": {
            "gridcolor": "white",
            "linecolor": "white",
            "ticks": ""
           }
          },
          "scene": {
           "xaxis": {
            "backgroundcolor": "#E5ECF6",
            "gridcolor": "white",
            "gridwidth": 2,
            "linecolor": "white",
            "showbackground": true,
            "ticks": "",
            "zerolinecolor": "white"
           },
           "yaxis": {
            "backgroundcolor": "#E5ECF6",
            "gridcolor": "white",
            "gridwidth": 2,
            "linecolor": "white",
            "showbackground": true,
            "ticks": "",
            "zerolinecolor": "white"
           },
           "zaxis": {
            "backgroundcolor": "#E5ECF6",
            "gridcolor": "white",
            "gridwidth": 2,
            "linecolor": "white",
            "showbackground": true,
            "ticks": "",
            "zerolinecolor": "white"
           }
          },
          "shapedefaults": {
           "line": {
            "color": "#2a3f5f"
           }
          },
          "ternary": {
           "aaxis": {
            "gridcolor": "white",
            "linecolor": "white",
            "ticks": ""
           },
           "baxis": {
            "gridcolor": "white",
            "linecolor": "white",
            "ticks": ""
           },
           "bgcolor": "#E5ECF6",
           "caxis": {
            "gridcolor": "white",
            "linecolor": "white",
            "ticks": ""
           }
          },
          "title": {
           "x": 0.05
          },
          "xaxis": {
           "automargin": true,
           "gridcolor": "white",
           "linecolor": "white",
           "ticks": "",
           "title": {
            "standoff": 15
           },
           "zerolinecolor": "white",
           "zerolinewidth": 2
          },
          "yaxis": {
           "automargin": true,
           "gridcolor": "white",
           "linecolor": "white",
           "ticks": "",
           "title": {
            "standoff": 15
           },
           "zerolinecolor": "white",
           "zerolinewidth": 2
          }
         }
        },
        "title": {
         "font": {
          "size": 24
         },
         "text": "Global CO₂ Emissions Distribution in 2023"
        }
       }
      }
     },
     "metadata": {},
     "output_type": "display_data"
    }
   ],
   "source": [
    "import plotly.express as px\n",
    "\n",
    "# Filter data for the latest available year and remove rows with missing ISO codes.\n",
    "latest_year = data_clean['year'].max()\n",
    "df_latest = data_clean[(data_clean['year'] == latest_year) & (data_clean['iso_code'].notnull())]\n",
    "\n",
    "# Aggregate total CO2 emissions per country using ISO codes.\n",
    "\n",
    "df_latest_agg = df_latest.groupby(['iso_code', 'country'], as_index=False)['co2'].sum()\n",
    "\n",
    "# Create a choropleth map using Plotly Express.\n",
    "fig = px.choropleth(\n",
    "    df_latest_agg,\n",
    "    locations='iso_code',        \n",
    "    color='co2',                 \n",
    "    hover_name='country',       \n",
    "    color_continuous_scale=px.colors.sequential.Plasma,  \n",
    "    title=f\"Global CO₂ Emissions Distribution in {latest_year}\",\n",
    "    projection=\"natural earth\",  \n",
    "    labels={'co2': 'CO₂ Emissions'}  \n",
    ")\n",
    "\n",
    "# Fine-tune the layout for a clean look.\n",
    "fig.update_layout(\n",
    "    margin={\"r\":0, \"t\":50, \"l\":0, \"b\":0},\n",
    "    title_font=dict(size=24)\n",
    ")\n",
    "\n",
    "# Show the interactive map.\n",
    "fig.show()\n"
   ]
  },
  {
   "cell_type": "markdown",
   "id": "9637331a",
   "metadata": {},
   "source": [
    "The choropleth map titled \"Global CO₂ Emissions Distribution in 2023\" presents a striking visualization of global carbon dioxide emissions by country, effectively capturing the disparity in environmental impact across regions. Dominating the spectrum is China, shaded in a bright yellow-green hue, indicating it has the highest total emissions—exceeding 10,000 metric tons—highlighting its role as the world’s largest emitter. The United States follows with significant emissions, rendered in a deep red-purple tone, signifying values in the upper mid-range of the scale. Other major contributors include India and Russia, with varying degrees of intense coloration. In contrast, much of Africa, parts of Latin America, and Southeast Asia are shaded in deep blues, indicating low emission levels, which often correlates with less industrialization and lower energy consumption per capita. The map’s use of the \"Plasma\" color scale allows for a vivid, easily interpretable gradient that accentuates emission disparities globally. It also underscores the broader narrative of global inequality in climate responsibility, where a handful of industrialized nations contribute disproportionately to CO₂ emissions, while many developing countries emit relatively little despite often being the most vulnerable to climate change impacts."
   ]
  },
  {
   "cell_type": "markdown",
   "id": "fcf74115",
   "metadata": {},
   "source": [
    "# Pie Chart: CO₂ Emission Contributions by Source\n",
    "\n",
    "**Indicators:** This chart presents the contribution of key sources—`cement_co2`, `coal_co2`, `oil_co2`, and a calculated `other emissions`—to total CO₂ emissions in the most recent year.  \n",
    "\n",
    "**Objective:** To visually break down and understand the share of each major emission source in global CO₂ output, helping identify which sectors are the most impactful.  \n",
    "\n",
    "**Approach:** For the latest available year in the dataset, global totals of CO₂ emissions from cement, coal, and oil are summed. Emissions not accounted for by these three are grouped as \"Other Emissions.\" These values are plotted as a donut-style pie chart using Plotly Express. The chart includes percentage labels, a central hole for aesthetics, interactive hover info displaying absolute emission values, and a clear visual separation using color-coded slices and borders.\n"
   ]
  },
  {
   "cell_type": "code",
   "execution_count": 12,
   "id": "34d3bec5",
   "metadata": {},
   "outputs": [
    {
     "data": {
      "application/vnd.plotly.v1+json": {
       "config": {
        "plotlyServerURL": "https://plot.ly"
       },
       "data": [
        {
         "customdata": [
          [
           "Cement CO₂"
          ],
          [
           "Coal CO₂"
          ],
          [
           "Oil CO₂"
          ],
          [
           "Other Emissions"
          ]
         ],
         "domain": {
          "x": [
           0,
           1
          ],
          "y": [
           0,
           1
          ]
         },
         "hole": 0.4,
         "hovertemplate": "<b>%{label}</b><br>Emissions: %{value:,.0f} MtCO₂<extra></extra>",
         "labels": [
          "Cement CO₂",
          "Coal CO₂",
          "Oil CO₂",
          "Other Emissions"
         ],
         "legendgroup": "",
         "marker": {
          "colors": [
           "#636EFA",
           "#EF553B",
           "#00CC96",
           "#AB63FA"
          ],
          "line": {
           "color": "#FFFFFF",
           "width": 2
          }
         },
         "name": "",
         "showlegend": true,
         "textinfo": "percent+label",
         "textposition": "inside",
         "type": "pie",
         "values": [
          6882.586000000001,
          66113.45199999999,
          53524.354999999996,
          114596.27500000002
         ]
        }
       ],
       "layout": {
        "legend": {
         "font": {
          "size": 14
         },
         "title": {
          "text": "Source"
         },
         "tracegroupgap": 0
        },
        "margin": {
         "b": 20,
         "l": 20,
         "r": 20,
         "t": 80
        },
        "piecolorway": [
         "#636EFA",
         "#EF553B",
         "#00CC96",
         "#AB63FA",
         "#FFA15A",
         "#19D3F3",
         "#FF6692",
         "#B6E880",
         "#FF97FF",
         "#FECB52"
        ],
        "template": {
         "data": {
          "bar": [
           {
            "error_x": {
             "color": "#2a3f5f"
            },
            "error_y": {
             "color": "#2a3f5f"
            },
            "marker": {
             "line": {
              "color": "#E5ECF6",
              "width": 0.5
             },
             "pattern": {
              "fillmode": "overlay",
              "size": 10,
              "solidity": 0.2
             }
            },
            "type": "bar"
           }
          ],
          "barpolar": [
           {
            "marker": {
             "line": {
              "color": "#E5ECF6",
              "width": 0.5
             },
             "pattern": {
              "fillmode": "overlay",
              "size": 10,
              "solidity": 0.2
             }
            },
            "type": "barpolar"
           }
          ],
          "carpet": [
           {
            "aaxis": {
             "endlinecolor": "#2a3f5f",
             "gridcolor": "white",
             "linecolor": "white",
             "minorgridcolor": "white",
             "startlinecolor": "#2a3f5f"
            },
            "baxis": {
             "endlinecolor": "#2a3f5f",
             "gridcolor": "white",
             "linecolor": "white",
             "minorgridcolor": "white",
             "startlinecolor": "#2a3f5f"
            },
            "type": "carpet"
           }
          ],
          "choropleth": [
           {
            "colorbar": {
             "outlinewidth": 0,
             "ticks": ""
            },
            "type": "choropleth"
           }
          ],
          "contour": [
           {
            "colorbar": {
             "outlinewidth": 0,
             "ticks": ""
            },
            "colorscale": [
             [
              0,
              "#0d0887"
             ],
             [
              0.1111111111111111,
              "#46039f"
             ],
             [
              0.2222222222222222,
              "#7201a8"
             ],
             [
              0.3333333333333333,
              "#9c179e"
             ],
             [
              0.4444444444444444,
              "#bd3786"
             ],
             [
              0.5555555555555556,
              "#d8576b"
             ],
             [
              0.6666666666666666,
              "#ed7953"
             ],
             [
              0.7777777777777778,
              "#fb9f3a"
             ],
             [
              0.8888888888888888,
              "#fdca26"
             ],
             [
              1,
              "#f0f921"
             ]
            ],
            "type": "contour"
           }
          ],
          "contourcarpet": [
           {
            "colorbar": {
             "outlinewidth": 0,
             "ticks": ""
            },
            "type": "contourcarpet"
           }
          ],
          "heatmap": [
           {
            "colorbar": {
             "outlinewidth": 0,
             "ticks": ""
            },
            "colorscale": [
             [
              0,
              "#0d0887"
             ],
             [
              0.1111111111111111,
              "#46039f"
             ],
             [
              0.2222222222222222,
              "#7201a8"
             ],
             [
              0.3333333333333333,
              "#9c179e"
             ],
             [
              0.4444444444444444,
              "#bd3786"
             ],
             [
              0.5555555555555556,
              "#d8576b"
             ],
             [
              0.6666666666666666,
              "#ed7953"
             ],
             [
              0.7777777777777778,
              "#fb9f3a"
             ],
             [
              0.8888888888888888,
              "#fdca26"
             ],
             [
              1,
              "#f0f921"
             ]
            ],
            "type": "heatmap"
           }
          ],
          "heatmapgl": [
           {
            "colorbar": {
             "outlinewidth": 0,
             "ticks": ""
            },
            "colorscale": [
             [
              0,
              "#0d0887"
             ],
             [
              0.1111111111111111,
              "#46039f"
             ],
             [
              0.2222222222222222,
              "#7201a8"
             ],
             [
              0.3333333333333333,
              "#9c179e"
             ],
             [
              0.4444444444444444,
              "#bd3786"
             ],
             [
              0.5555555555555556,
              "#d8576b"
             ],
             [
              0.6666666666666666,
              "#ed7953"
             ],
             [
              0.7777777777777778,
              "#fb9f3a"
             ],
             [
              0.8888888888888888,
              "#fdca26"
             ],
             [
              1,
              "#f0f921"
             ]
            ],
            "type": "heatmapgl"
           }
          ],
          "histogram": [
           {
            "marker": {
             "pattern": {
              "fillmode": "overlay",
              "size": 10,
              "solidity": 0.2
             }
            },
            "type": "histogram"
           }
          ],
          "histogram2d": [
           {
            "colorbar": {
             "outlinewidth": 0,
             "ticks": ""
            },
            "colorscale": [
             [
              0,
              "#0d0887"
             ],
             [
              0.1111111111111111,
              "#46039f"
             ],
             [
              0.2222222222222222,
              "#7201a8"
             ],
             [
              0.3333333333333333,
              "#9c179e"
             ],
             [
              0.4444444444444444,
              "#bd3786"
             ],
             [
              0.5555555555555556,
              "#d8576b"
             ],
             [
              0.6666666666666666,
              "#ed7953"
             ],
             [
              0.7777777777777778,
              "#fb9f3a"
             ],
             [
              0.8888888888888888,
              "#fdca26"
             ],
             [
              1,
              "#f0f921"
             ]
            ],
            "type": "histogram2d"
           }
          ],
          "histogram2dcontour": [
           {
            "colorbar": {
             "outlinewidth": 0,
             "ticks": ""
            },
            "colorscale": [
             [
              0,
              "#0d0887"
             ],
             [
              0.1111111111111111,
              "#46039f"
             ],
             [
              0.2222222222222222,
              "#7201a8"
             ],
             [
              0.3333333333333333,
              "#9c179e"
             ],
             [
              0.4444444444444444,
              "#bd3786"
             ],
             [
              0.5555555555555556,
              "#d8576b"
             ],
             [
              0.6666666666666666,
              "#ed7953"
             ],
             [
              0.7777777777777778,
              "#fb9f3a"
             ],
             [
              0.8888888888888888,
              "#fdca26"
             ],
             [
              1,
              "#f0f921"
             ]
            ],
            "type": "histogram2dcontour"
           }
          ],
          "mesh3d": [
           {
            "colorbar": {
             "outlinewidth": 0,
             "ticks": ""
            },
            "type": "mesh3d"
           }
          ],
          "parcoords": [
           {
            "line": {
             "colorbar": {
              "outlinewidth": 0,
              "ticks": ""
             }
            },
            "type": "parcoords"
           }
          ],
          "pie": [
           {
            "automargin": true,
            "type": "pie"
           }
          ],
          "scatter": [
           {
            "fillpattern": {
             "fillmode": "overlay",
             "size": 10,
             "solidity": 0.2
            },
            "type": "scatter"
           }
          ],
          "scatter3d": [
           {
            "line": {
             "colorbar": {
              "outlinewidth": 0,
              "ticks": ""
             }
            },
            "marker": {
             "colorbar": {
              "outlinewidth": 0,
              "ticks": ""
             }
            },
            "type": "scatter3d"
           }
          ],
          "scattercarpet": [
           {
            "marker": {
             "colorbar": {
              "outlinewidth": 0,
              "ticks": ""
             }
            },
            "type": "scattercarpet"
           }
          ],
          "scattergeo": [
           {
            "marker": {
             "colorbar": {
              "outlinewidth": 0,
              "ticks": ""
             }
            },
            "type": "scattergeo"
           }
          ],
          "scattergl": [
           {
            "marker": {
             "colorbar": {
              "outlinewidth": 0,
              "ticks": ""
             }
            },
            "type": "scattergl"
           }
          ],
          "scattermapbox": [
           {
            "marker": {
             "colorbar": {
              "outlinewidth": 0,
              "ticks": ""
             }
            },
            "type": "scattermapbox"
           }
          ],
          "scatterpolar": [
           {
            "marker": {
             "colorbar": {
              "outlinewidth": 0,
              "ticks": ""
             }
            },
            "type": "scatterpolar"
           }
          ],
          "scatterpolargl": [
           {
            "marker": {
             "colorbar": {
              "outlinewidth": 0,
              "ticks": ""
             }
            },
            "type": "scatterpolargl"
           }
          ],
          "scatterternary": [
           {
            "marker": {
             "colorbar": {
              "outlinewidth": 0,
              "ticks": ""
             }
            },
            "type": "scatterternary"
           }
          ],
          "surface": [
           {
            "colorbar": {
             "outlinewidth": 0,
             "ticks": ""
            },
            "colorscale": [
             [
              0,
              "#0d0887"
             ],
             [
              0.1111111111111111,
              "#46039f"
             ],
             [
              0.2222222222222222,
              "#7201a8"
             ],
             [
              0.3333333333333333,
              "#9c179e"
             ],
             [
              0.4444444444444444,
              "#bd3786"
             ],
             [
              0.5555555555555556,
              "#d8576b"
             ],
             [
              0.6666666666666666,
              "#ed7953"
             ],
             [
              0.7777777777777778,
              "#fb9f3a"
             ],
             [
              0.8888888888888888,
              "#fdca26"
             ],
             [
              1,
              "#f0f921"
             ]
            ],
            "type": "surface"
           }
          ],
          "table": [
           {
            "cells": {
             "fill": {
              "color": "#EBF0F8"
             },
             "line": {
              "color": "white"
             }
            },
            "header": {
             "fill": {
              "color": "#C8D4E3"
             },
             "line": {
              "color": "white"
             }
            },
            "type": "table"
           }
          ]
         },
         "layout": {
          "annotationdefaults": {
           "arrowcolor": "#2a3f5f",
           "arrowhead": 0,
           "arrowwidth": 1
          },
          "autotypenumbers": "strict",
          "coloraxis": {
           "colorbar": {
            "outlinewidth": 0,
            "ticks": ""
           }
          },
          "colorscale": {
           "diverging": [
            [
             0,
             "#8e0152"
            ],
            [
             0.1,
             "#c51b7d"
            ],
            [
             0.2,
             "#de77ae"
            ],
            [
             0.3,
             "#f1b6da"
            ],
            [
             0.4,
             "#fde0ef"
            ],
            [
             0.5,
             "#f7f7f7"
            ],
            [
             0.6,
             "#e6f5d0"
            ],
            [
             0.7,
             "#b8e186"
            ],
            [
             0.8,
             "#7fbc41"
            ],
            [
             0.9,
             "#4d9221"
            ],
            [
             1,
             "#276419"
            ]
           ],
           "sequential": [
            [
             0,
             "#0d0887"
            ],
            [
             0.1111111111111111,
             "#46039f"
            ],
            [
             0.2222222222222222,
             "#7201a8"
            ],
            [
             0.3333333333333333,
             "#9c179e"
            ],
            [
             0.4444444444444444,
             "#bd3786"
            ],
            [
             0.5555555555555556,
             "#d8576b"
            ],
            [
             0.6666666666666666,
             "#ed7953"
            ],
            [
             0.7777777777777778,
             "#fb9f3a"
            ],
            [
             0.8888888888888888,
             "#fdca26"
            ],
            [
             1,
             "#f0f921"
            ]
           ],
           "sequentialminus": [
            [
             0,
             "#0d0887"
            ],
            [
             0.1111111111111111,
             "#46039f"
            ],
            [
             0.2222222222222222,
             "#7201a8"
            ],
            [
             0.3333333333333333,
             "#9c179e"
            ],
            [
             0.4444444444444444,
             "#bd3786"
            ],
            [
             0.5555555555555556,
             "#d8576b"
            ],
            [
             0.6666666666666666,
             "#ed7953"
            ],
            [
             0.7777777777777778,
             "#fb9f3a"
            ],
            [
             0.8888888888888888,
             "#fdca26"
            ],
            [
             1,
             "#f0f921"
            ]
           ]
          },
          "colorway": [
           "#636efa",
           "#EF553B",
           "#00cc96",
           "#ab63fa",
           "#FFA15A",
           "#19d3f3",
           "#FF6692",
           "#B6E880",
           "#FF97FF",
           "#FECB52"
          ],
          "font": {
           "color": "#2a3f5f"
          },
          "geo": {
           "bgcolor": "white",
           "lakecolor": "white",
           "landcolor": "#E5ECF6",
           "showlakes": true,
           "showland": true,
           "subunitcolor": "white"
          },
          "hoverlabel": {
           "align": "left"
          },
          "hovermode": "closest",
          "mapbox": {
           "style": "light"
          },
          "paper_bgcolor": "white",
          "plot_bgcolor": "#E5ECF6",
          "polar": {
           "angularaxis": {
            "gridcolor": "white",
            "linecolor": "white",
            "ticks": ""
           },
           "bgcolor": "#E5ECF6",
           "radialaxis": {
            "gridcolor": "white",
            "linecolor": "white",
            "ticks": ""
           }
          },
          "scene": {
           "xaxis": {
            "backgroundcolor": "#E5ECF6",
            "gridcolor": "white",
            "gridwidth": 2,
            "linecolor": "white",
            "showbackground": true,
            "ticks": "",
            "zerolinecolor": "white"
           },
           "yaxis": {
            "backgroundcolor": "#E5ECF6",
            "gridcolor": "white",
            "gridwidth": 2,
            "linecolor": "white",
            "showbackground": true,
            "ticks": "",
            "zerolinecolor": "white"
           },
           "zaxis": {
            "backgroundcolor": "#E5ECF6",
            "gridcolor": "white",
            "gridwidth": 2,
            "linecolor": "white",
            "showbackground": true,
            "ticks": "",
            "zerolinecolor": "white"
           }
          },
          "shapedefaults": {
           "line": {
            "color": "#2a3f5f"
           }
          },
          "ternary": {
           "aaxis": {
            "gridcolor": "white",
            "linecolor": "white",
            "ticks": ""
           },
           "baxis": {
            "gridcolor": "white",
            "linecolor": "white",
            "ticks": ""
           },
           "bgcolor": "#E5ECF6",
           "caxis": {
            "gridcolor": "white",
            "linecolor": "white",
            "ticks": ""
           }
          },
          "title": {
           "x": 0.05
          },
          "xaxis": {
           "automargin": true,
           "gridcolor": "white",
           "linecolor": "white",
           "ticks": "",
           "title": {
            "standoff": 15
           },
           "zerolinecolor": "white",
           "zerolinewidth": 2
          },
          "yaxis": {
           "automargin": true,
           "gridcolor": "white",
           "linecolor": "white",
           "ticks": "",
           "title": {
            "standoff": 15
           },
           "zerolinecolor": "white",
           "zerolinewidth": 2
          }
         }
        },
        "title": {
         "font": {
          "size": 24
         },
         "text": "Global CO₂ Emission Contribution by Source in 2023"
        }
       }
      }
     },
     "metadata": {},
     "output_type": "display_data"
    }
   ],
   "source": [
    "import plotly.express as px\n",
    "\n",
    "# Prepare data for the latest year\n",
    "latest_year = data_clean['year'].max()\n",
    "df_latest = data_clean[data_clean['year'] == latest_year]\n",
    "\n",
    "# Aggregate global sums\n",
    "total_co2  = df_latest['co2'].sum()\n",
    "cement_co2 = df_latest['cement_co2'].sum()\n",
    "coal_co2   = df_latest['coal_co2'].sum()\n",
    "oil_co2    = df_latest['oil_co2'].sum()\n",
    "others     = total_co2 - (cement_co2 + coal_co2 + oil_co2)\n",
    "\n",
    "# Build a DataFrame for plotting\n",
    "pie_df = pd.DataFrame({\n",
    "    'Source': ['Cement CO₂', 'Coal CO₂', 'Oil CO₂', 'Other Emissions'],\n",
    "    'Emissions': [cement_co2, coal_co2, oil_co2, others]\n",
    "})\n",
    "\n",
    "# Create the donut chart\n",
    "fig = px.pie(\n",
    "    pie_df,\n",
    "    names='Source',\n",
    "    values='Emissions',\n",
    "    hole=0.4,  # donut hole size\n",
    "    title=f\"Global CO₂ Emission Contribution by Source in {latest_year}\",\n",
    "    color='Source',\n",
    "    color_discrete_sequence=px.colors.qualitative.Plotly\n",
    ")\n",
    "\n",
    "# Update layout for presentation quality\n",
    "fig.update_traces(\n",
    "    textposition='inside',\n",
    "    textinfo='percent+label',\n",
    "    hovertemplate='<b>%{label}</b><br>Emissions: %{value:,.0f} MtCO₂<extra></extra>',\n",
    "    marker=dict(line=dict(color='#FFFFFF', width=2))\n",
    ")\n",
    "\n",
    "fig.update_layout(\n",
    "    title_font_size=24,\n",
    "    legend_title_text='Source',\n",
    "    legend_font_size=14,\n",
    "    margin=dict(t=80, b=20, l=20, r=20)\n",
    ")\n",
    "\n",
    "fig.show()\n"
   ]
  },
  {
   "cell_type": "markdown",
   "id": "fac63bf1",
   "metadata": {},
   "source": [
    "The donut chart provides a compelling visual breakdown of the major contributors to global carbon emissions, emphasizing the varied origins of greenhouse gases in the modern energy and industrial landscape. The largest portion of the chart, occupying 47.5%, is labeled “Other Emissions,” which encompasses a wide range of minor or indirect sources not individually represented—such as emissions from land-use changes, biomass burning, natural gas, and various industrial processes—highlighting the complex, multifaceted nature of global carbon output. Coal CO₂ emissions represent the second-largest share at 27.4%, reinforcing coal’s status as a leading and persistently problematic fuel in terms of carbon intensity, especially in countries reliant on coal-fired power plants. Oil CO₂ accounts for 22.2%, reflecting its dominant role in transportation and industrial sectors. Cement CO₂ emissions contribute a relatively small but non-negligible 2.9%, underscoring the environmental cost of infrastructure development due to the CO₂ released both during energy consumption and chemical transformation in cement production. The chart’s modern donut design with vivid color coding not only enhances readability but also effectively emphasizes that while traditional fossil fuels remain critical contributors, nearly half of emissions come from a diverse and less obvious set of sources, making the path to comprehensive decarbonization both urgent and complex."
   ]
  },
  {
   "cell_type": "markdown",
   "id": "2009073b",
   "metadata": {},
   "source": [
    "# Country-Wise CO₂ Emissions Pie Chart\n",
    "\n",
    "**Indicators:**  This chart displays the contribution of the top 10 CO₂-emitting countries to total global emissions in the most recent year. All other countries are combined under a single \"Others\" category for clarity and focus.\n",
    "\n",
    "**Objective:**  To identify and visualize which countries are the most significant contributors to global CO₂ emissions, and to compare their individual shares with the rest of the world. This aids in understanding geopolitical emission responsibilities and prioritizing mitigation efforts.\n",
    "\n",
    "**Approach:**  For the latest year in the dataset, total CO₂ emissions are aggregated for each country. The top 10 emitters are selected based on emission volume, while the remaining countries’ emissions are combined into an \"Others\" category. These values are visualized using a donut-style pie chart via Plotly Express. The chart includes internal percentage labels, a central hole for a clean layout, and interactive hover features showing absolute emissions in megatonnes. Color-coded slices and white borders enhance visual distinction.\n"
   ]
  },
  {
   "cell_type": "code",
   "execution_count": 13,
   "id": "4709d996",
   "metadata": {},
   "outputs": [
    {
     "data": {
      "application/vnd.plotly.v1+json": {
       "config": {
        "plotlyServerURL": "https://plot.ly"
       },
       "data": [
        {
         "domain": {
          "x": [
           0,
           1
          ],
          "y": [
           0,
           1
          ]
         },
         "hole": 0.4,
         "hovertemplate": "<b>%{label}</b><br>CO₂: %{value:,.0f} Mt<extra></extra>",
         "labels": [
          "China",
          "United States",
          "India",
          "Russia",
          "Japan",
          "Iran",
          "Saudi Arabia",
          "Indonesia",
          "Germany",
          "South Korea",
          "Others"
         ],
         "legendgroup": "",
         "marker": {
          "line": {
           "color": "white",
           "width": 2
          }
         },
         "name": "",
         "showlegend": true,
         "textinfo": "percent+label",
         "textposition": "inside",
         "type": "pie",
         "values": [
          11902.503,
          4911.391,
          3062.324,
          1815.925,
          988.785,
          817.88,
          736.205,
          733.224,
          596.151,
          577.417,
          10524.812999999998
         ]
        }
       ],
       "layout": {
        "legend": {
         "font": {
          "size": 12
         },
         "title": {
          "text": "Country"
         },
         "tracegroupgap": 0
        },
        "margin": {
         "b": 20,
         "l": 20,
         "r": 20,
         "t": 80
        },
        "piecolorway": [
         "rgb(136, 204, 238)",
         "rgb(204, 102, 119)",
         "rgb(221, 204, 119)",
         "rgb(17, 119, 51)",
         "rgb(51, 34, 136)",
         "rgb(170, 68, 153)",
         "rgb(68, 170, 153)",
         "rgb(153, 153, 51)",
         "rgb(136, 34, 85)",
         "rgb(102, 17, 0)",
         "rgb(136, 136, 136)"
        ],
        "template": {
         "data": {
          "bar": [
           {
            "error_x": {
             "color": "#2a3f5f"
            },
            "error_y": {
             "color": "#2a3f5f"
            },
            "marker": {
             "line": {
              "color": "#E5ECF6",
              "width": 0.5
             },
             "pattern": {
              "fillmode": "overlay",
              "size": 10,
              "solidity": 0.2
             }
            },
            "type": "bar"
           }
          ],
          "barpolar": [
           {
            "marker": {
             "line": {
              "color": "#E5ECF6",
              "width": 0.5
             },
             "pattern": {
              "fillmode": "overlay",
              "size": 10,
              "solidity": 0.2
             }
            },
            "type": "barpolar"
           }
          ],
          "carpet": [
           {
            "aaxis": {
             "endlinecolor": "#2a3f5f",
             "gridcolor": "white",
             "linecolor": "white",
             "minorgridcolor": "white",
             "startlinecolor": "#2a3f5f"
            },
            "baxis": {
             "endlinecolor": "#2a3f5f",
             "gridcolor": "white",
             "linecolor": "white",
             "minorgridcolor": "white",
             "startlinecolor": "#2a3f5f"
            },
            "type": "carpet"
           }
          ],
          "choropleth": [
           {
            "colorbar": {
             "outlinewidth": 0,
             "ticks": ""
            },
            "type": "choropleth"
           }
          ],
          "contour": [
           {
            "colorbar": {
             "outlinewidth": 0,
             "ticks": ""
            },
            "colorscale": [
             [
              0,
              "#0d0887"
             ],
             [
              0.1111111111111111,
              "#46039f"
             ],
             [
              0.2222222222222222,
              "#7201a8"
             ],
             [
              0.3333333333333333,
              "#9c179e"
             ],
             [
              0.4444444444444444,
              "#bd3786"
             ],
             [
              0.5555555555555556,
              "#d8576b"
             ],
             [
              0.6666666666666666,
              "#ed7953"
             ],
             [
              0.7777777777777778,
              "#fb9f3a"
             ],
             [
              0.8888888888888888,
              "#fdca26"
             ],
             [
              1,
              "#f0f921"
             ]
            ],
            "type": "contour"
           }
          ],
          "contourcarpet": [
           {
            "colorbar": {
             "outlinewidth": 0,
             "ticks": ""
            },
            "type": "contourcarpet"
           }
          ],
          "heatmap": [
           {
            "colorbar": {
             "outlinewidth": 0,
             "ticks": ""
            },
            "colorscale": [
             [
              0,
              "#0d0887"
             ],
             [
              0.1111111111111111,
              "#46039f"
             ],
             [
              0.2222222222222222,
              "#7201a8"
             ],
             [
              0.3333333333333333,
              "#9c179e"
             ],
             [
              0.4444444444444444,
              "#bd3786"
             ],
             [
              0.5555555555555556,
              "#d8576b"
             ],
             [
              0.6666666666666666,
              "#ed7953"
             ],
             [
              0.7777777777777778,
              "#fb9f3a"
             ],
             [
              0.8888888888888888,
              "#fdca26"
             ],
             [
              1,
              "#f0f921"
             ]
            ],
            "type": "heatmap"
           }
          ],
          "heatmapgl": [
           {
            "colorbar": {
             "outlinewidth": 0,
             "ticks": ""
            },
            "colorscale": [
             [
              0,
              "#0d0887"
             ],
             [
              0.1111111111111111,
              "#46039f"
             ],
             [
              0.2222222222222222,
              "#7201a8"
             ],
             [
              0.3333333333333333,
              "#9c179e"
             ],
             [
              0.4444444444444444,
              "#bd3786"
             ],
             [
              0.5555555555555556,
              "#d8576b"
             ],
             [
              0.6666666666666666,
              "#ed7953"
             ],
             [
              0.7777777777777778,
              "#fb9f3a"
             ],
             [
              0.8888888888888888,
              "#fdca26"
             ],
             [
              1,
              "#f0f921"
             ]
            ],
            "type": "heatmapgl"
           }
          ],
          "histogram": [
           {
            "marker": {
             "pattern": {
              "fillmode": "overlay",
              "size": 10,
              "solidity": 0.2
             }
            },
            "type": "histogram"
           }
          ],
          "histogram2d": [
           {
            "colorbar": {
             "outlinewidth": 0,
             "ticks": ""
            },
            "colorscale": [
             [
              0,
              "#0d0887"
             ],
             [
              0.1111111111111111,
              "#46039f"
             ],
             [
              0.2222222222222222,
              "#7201a8"
             ],
             [
              0.3333333333333333,
              "#9c179e"
             ],
             [
              0.4444444444444444,
              "#bd3786"
             ],
             [
              0.5555555555555556,
              "#d8576b"
             ],
             [
              0.6666666666666666,
              "#ed7953"
             ],
             [
              0.7777777777777778,
              "#fb9f3a"
             ],
             [
              0.8888888888888888,
              "#fdca26"
             ],
             [
              1,
              "#f0f921"
             ]
            ],
            "type": "histogram2d"
           }
          ],
          "histogram2dcontour": [
           {
            "colorbar": {
             "outlinewidth": 0,
             "ticks": ""
            },
            "colorscale": [
             [
              0,
              "#0d0887"
             ],
             [
              0.1111111111111111,
              "#46039f"
             ],
             [
              0.2222222222222222,
              "#7201a8"
             ],
             [
              0.3333333333333333,
              "#9c179e"
             ],
             [
              0.4444444444444444,
              "#bd3786"
             ],
             [
              0.5555555555555556,
              "#d8576b"
             ],
             [
              0.6666666666666666,
              "#ed7953"
             ],
             [
              0.7777777777777778,
              "#fb9f3a"
             ],
             [
              0.8888888888888888,
              "#fdca26"
             ],
             [
              1,
              "#f0f921"
             ]
            ],
            "type": "histogram2dcontour"
           }
          ],
          "mesh3d": [
           {
            "colorbar": {
             "outlinewidth": 0,
             "ticks": ""
            },
            "type": "mesh3d"
           }
          ],
          "parcoords": [
           {
            "line": {
             "colorbar": {
              "outlinewidth": 0,
              "ticks": ""
             }
            },
            "type": "parcoords"
           }
          ],
          "pie": [
           {
            "automargin": true,
            "type": "pie"
           }
          ],
          "scatter": [
           {
            "fillpattern": {
             "fillmode": "overlay",
             "size": 10,
             "solidity": 0.2
            },
            "type": "scatter"
           }
          ],
          "scatter3d": [
           {
            "line": {
             "colorbar": {
              "outlinewidth": 0,
              "ticks": ""
             }
            },
            "marker": {
             "colorbar": {
              "outlinewidth": 0,
              "ticks": ""
             }
            },
            "type": "scatter3d"
           }
          ],
          "scattercarpet": [
           {
            "marker": {
             "colorbar": {
              "outlinewidth": 0,
              "ticks": ""
             }
            },
            "type": "scattercarpet"
           }
          ],
          "scattergeo": [
           {
            "marker": {
             "colorbar": {
              "outlinewidth": 0,
              "ticks": ""
             }
            },
            "type": "scattergeo"
           }
          ],
          "scattergl": [
           {
            "marker": {
             "colorbar": {
              "outlinewidth": 0,
              "ticks": ""
             }
            },
            "type": "scattergl"
           }
          ],
          "scattermapbox": [
           {
            "marker": {
             "colorbar": {
              "outlinewidth": 0,
              "ticks": ""
             }
            },
            "type": "scattermapbox"
           }
          ],
          "scatterpolar": [
           {
            "marker": {
             "colorbar": {
              "outlinewidth": 0,
              "ticks": ""
             }
            },
            "type": "scatterpolar"
           }
          ],
          "scatterpolargl": [
           {
            "marker": {
             "colorbar": {
              "outlinewidth": 0,
              "ticks": ""
             }
            },
            "type": "scatterpolargl"
           }
          ],
          "scatterternary": [
           {
            "marker": {
             "colorbar": {
              "outlinewidth": 0,
              "ticks": ""
             }
            },
            "type": "scatterternary"
           }
          ],
          "surface": [
           {
            "colorbar": {
             "outlinewidth": 0,
             "ticks": ""
            },
            "colorscale": [
             [
              0,
              "#0d0887"
             ],
             [
              0.1111111111111111,
              "#46039f"
             ],
             [
              0.2222222222222222,
              "#7201a8"
             ],
             [
              0.3333333333333333,
              "#9c179e"
             ],
             [
              0.4444444444444444,
              "#bd3786"
             ],
             [
              0.5555555555555556,
              "#d8576b"
             ],
             [
              0.6666666666666666,
              "#ed7953"
             ],
             [
              0.7777777777777778,
              "#fb9f3a"
             ],
             [
              0.8888888888888888,
              "#fdca26"
             ],
             [
              1,
              "#f0f921"
             ]
            ],
            "type": "surface"
           }
          ],
          "table": [
           {
            "cells": {
             "fill": {
              "color": "#EBF0F8"
             },
             "line": {
              "color": "white"
             }
            },
            "header": {
             "fill": {
              "color": "#C8D4E3"
             },
             "line": {
              "color": "white"
             }
            },
            "type": "table"
           }
          ]
         },
         "layout": {
          "annotationdefaults": {
           "arrowcolor": "#2a3f5f",
           "arrowhead": 0,
           "arrowwidth": 1
          },
          "autotypenumbers": "strict",
          "coloraxis": {
           "colorbar": {
            "outlinewidth": 0,
            "ticks": ""
           }
          },
          "colorscale": {
           "diverging": [
            [
             0,
             "#8e0152"
            ],
            [
             0.1,
             "#c51b7d"
            ],
            [
             0.2,
             "#de77ae"
            ],
            [
             0.3,
             "#f1b6da"
            ],
            [
             0.4,
             "#fde0ef"
            ],
            [
             0.5,
             "#f7f7f7"
            ],
            [
             0.6,
             "#e6f5d0"
            ],
            [
             0.7,
             "#b8e186"
            ],
            [
             0.8,
             "#7fbc41"
            ],
            [
             0.9,
             "#4d9221"
            ],
            [
             1,
             "#276419"
            ]
           ],
           "sequential": [
            [
             0,
             "#0d0887"
            ],
            [
             0.1111111111111111,
             "#46039f"
            ],
            [
             0.2222222222222222,
             "#7201a8"
            ],
            [
             0.3333333333333333,
             "#9c179e"
            ],
            [
             0.4444444444444444,
             "#bd3786"
            ],
            [
             0.5555555555555556,
             "#d8576b"
            ],
            [
             0.6666666666666666,
             "#ed7953"
            ],
            [
             0.7777777777777778,
             "#fb9f3a"
            ],
            [
             0.8888888888888888,
             "#fdca26"
            ],
            [
             1,
             "#f0f921"
            ]
           ],
           "sequentialminus": [
            [
             0,
             "#0d0887"
            ],
            [
             0.1111111111111111,
             "#46039f"
            ],
            [
             0.2222222222222222,
             "#7201a8"
            ],
            [
             0.3333333333333333,
             "#9c179e"
            ],
            [
             0.4444444444444444,
             "#bd3786"
            ],
            [
             0.5555555555555556,
             "#d8576b"
            ],
            [
             0.6666666666666666,
             "#ed7953"
            ],
            [
             0.7777777777777778,
             "#fb9f3a"
            ],
            [
             0.8888888888888888,
             "#fdca26"
            ],
            [
             1,
             "#f0f921"
            ]
           ]
          },
          "colorway": [
           "#636efa",
           "#EF553B",
           "#00cc96",
           "#ab63fa",
           "#FFA15A",
           "#19d3f3",
           "#FF6692",
           "#B6E880",
           "#FF97FF",
           "#FECB52"
          ],
          "font": {
           "color": "#2a3f5f"
          },
          "geo": {
           "bgcolor": "white",
           "lakecolor": "white",
           "landcolor": "#E5ECF6",
           "showlakes": true,
           "showland": true,
           "subunitcolor": "white"
          },
          "hoverlabel": {
           "align": "left"
          },
          "hovermode": "closest",
          "mapbox": {
           "style": "light"
          },
          "paper_bgcolor": "white",
          "plot_bgcolor": "#E5ECF6",
          "polar": {
           "angularaxis": {
            "gridcolor": "white",
            "linecolor": "white",
            "ticks": ""
           },
           "bgcolor": "#E5ECF6",
           "radialaxis": {
            "gridcolor": "white",
            "linecolor": "white",
            "ticks": ""
           }
          },
          "scene": {
           "xaxis": {
            "backgroundcolor": "#E5ECF6",
            "gridcolor": "white",
            "gridwidth": 2,
            "linecolor": "white",
            "showbackground": true,
            "ticks": "",
            "zerolinecolor": "white"
           },
           "yaxis": {
            "backgroundcolor": "#E5ECF6",
            "gridcolor": "white",
            "gridwidth": 2,
            "linecolor": "white",
            "showbackground": true,
            "ticks": "",
            "zerolinecolor": "white"
           },
           "zaxis": {
            "backgroundcolor": "#E5ECF6",
            "gridcolor": "white",
            "gridwidth": 2,
            "linecolor": "white",
            "showbackground": true,
            "ticks": "",
            "zerolinecolor": "white"
           }
          },
          "shapedefaults": {
           "line": {
            "color": "#2a3f5f"
           }
          },
          "ternary": {
           "aaxis": {
            "gridcolor": "white",
            "linecolor": "white",
            "ticks": ""
           },
           "baxis": {
            "gridcolor": "white",
            "linecolor": "white",
            "ticks": ""
           },
           "bgcolor": "#E5ECF6",
           "caxis": {
            "gridcolor": "white",
            "linecolor": "white",
            "ticks": ""
           }
          },
          "title": {
           "x": 0.05
          },
          "xaxis": {
           "automargin": true,
           "gridcolor": "white",
           "linecolor": "white",
           "ticks": "",
           "title": {
            "standoff": 15
           },
           "zerolinecolor": "white",
           "zerolinewidth": 2
          },
          "yaxis": {
           "automargin": true,
           "gridcolor": "white",
           "linecolor": "white",
           "ticks": "",
           "title": {
            "standoff": 15
           },
           "zerolinecolor": "white",
           "zerolinewidth": 2
          }
         }
        },
        "title": {
         "font": {
          "size": 22
         },
         "text": "Top 10 CO₂ Emitting Countries in 2023 (plus Others)"
        }
       }
      }
     },
     "metadata": {},
     "output_type": "display_data"
    }
   ],
   "source": [
    "import pandas as pd\n",
    "import plotly.express as px\n",
    "\n",
    "# Prepare data for the latest year\n",
    "latest_year = data_clean['year'].max()\n",
    "df_latest = data_clean[(data_clean['year'] == latest_year) & data_clean['iso_code'].notnull()]\n",
    "\n",
    "# Aggregate CO2 by country\n",
    "country_emissions = (\n",
    "    df_latest\n",
    "    .groupby(['iso_code', 'country'], as_index=False)['co2']\n",
    "    .sum()\n",
    "    .sort_values('co2', ascending=False)\n",
    ")\n",
    "\n",
    "# Pick top 10 countries and group the rest\n",
    "top_n = 10\n",
    "top_countries = country_emissions.head(top_n)\n",
    "others_sum = country_emissions['co2'].iloc[top_n:].sum()\n",
    "others_row = pd.DataFrame([{\n",
    "    'iso_code': 'OTH',\n",
    "    'country': 'Others',\n",
    "    'co2': others_sum\n",
    "}])\n",
    "\n",
    "pie_df = pd.concat([top_countries, others_row], ignore_index=True)\n",
    "\n",
    "# Build the donut chart\n",
    "fig = px.pie(\n",
    "    pie_df,\n",
    "    names='country',\n",
    "    values='co2',\n",
    "    hole=0.4,\n",
    "    title=f\"Top {top_n} CO₂ Emitting Countries in {latest_year} (plus Others)\",\n",
    "    color_discrete_sequence=px.colors.qualitative.Safe\n",
    ")\n",
    "\n",
    "# Style the traces\n",
    "fig.update_traces(\n",
    "    textposition='inside',\n",
    "    textinfo='percent+label',\n",
    "    hovertemplate='<b>%{label}</b><br>CO₂: %{value:,.0f} Mt<extra></extra>',\n",
    "    marker=dict(line=dict(color='white', width=2))\n",
    ")\n",
    "\n",
    "# Update layout\n",
    "fig.update_layout(\n",
    "    title_font_size=22,\n",
    "    legend_title_text='Country',\n",
    "    legend_font_size=12,\n",
    "    margin=dict(t=80, b=20, l=20, r=20)\n",
    ")\n",
    "\n",
    "fig.show()\n"
   ]
  },
  {
   "cell_type": "markdown",
   "id": "b303bc30",
   "metadata": {},
   "source": [
    "The pie chart highlights the unequal distribution of global CO₂ emissions in 2023, with China (33.6%) and the United States (28.7%) together responsible for over 60% of emissions, underscoring their outsized role in climate change. India ranks a distant third (6.35%), reflecting its growing industrialization, while Russia, Japan, and other industrialized nations contribute smaller but significant shares. The \"Others\" category (32.9%)—larger than any single country except China and the U.S.—emphasizes that collective emissions from smaller nations remain substantial, necessitating global cooperation in climate policy. The visualization effectively shows emission disparities but could be enhanced with absolute values and trend data to better inform mitigation strategies. The dominance of a few economies suggests targeted policies in these regions could have a major impact, while the significant \"Others\" portion indicates broader systemic changes are needed to achieve meaningful emission reductions worldwide."
   ]
  },
  {
   "cell_type": "markdown",
   "id": "8d52036e",
   "metadata": {},
   "source": [
    "# CO₂ Emissions: Developed vs. Developing Countries\n",
    "\n",
    "**Indicators:**  This dual-bar chart presents CO₂ emissions for a selected group of countries, separated into Developed (e.g., United States, Germany) and Developing (e.g., India, Brazil) categories. It compares:\n",
    "- **Total CO₂ Emissions** in megatonnes (Mt)  \n",
    "- **Per Capita CO₂ Emissions** in tonnes per person (t/person)  \n",
    "for the most recent year in the dataset.\n",
    "\n",
    "**Objective:**  To provide a clear visual comparison of the emission patterns between high-income and middle-/lower-income countries. The goal is to understand both overall contributions to global emissions and the average individual carbon footprint within each nation.\n",
    "\n",
    "**Approach:**  A curated list of five developed and five developing countries was used. For the latest available year, country-level total emissions (`co2`) and per capita emissions (`co2_per_capita`) were extracted and grouped accordingly. Two side-by-side bar charts were created using Matplotlib: one showing total CO₂ emissions and the other showing emissions per person. Distinct colors are applied to each group, and grid lines enhance readability. Rotated x-axis labels improve label visibility. The side-by-side layout enables a direct visual contrast of scale and intensity between the groups."
   ]
  },
  {
   "cell_type": "code",
   "execution_count": 25,
   "id": "e7f3eceb",
   "metadata": {},
   "outputs": [
    {
     "name": "stderr",
     "output_type": "stream",
     "text": [
      "C:\\Users\\araaa\\AppData\\Local\\Temp\\ipykernel_15536\\3899624769.py:14: SettingWithCopyWarning:\n",
      "\n",
      "\n",
      "A value is trying to be set on a copy of a slice from a DataFrame.\n",
      "Try using .loc[row_indexer,col_indexer] = value instead\n",
      "\n",
      "See the caveats in the documentation: https://pandas.pydata.org/pandas-docs/stable/user_guide/indexing.html#returning-a-view-versus-a-copy\n",
      "\n",
      "C:\\Users\\araaa\\AppData\\Local\\Temp\\ipykernel_15536\\3899624769.py:35: UserWarning:\n",
      "\n",
      "set_ticklabels() should only be used with a fixed number of ticks, i.e. after set_ticks() or using a FixedLocator.\n",
      "\n",
      "C:\\Users\\araaa\\AppData\\Local\\Temp\\ipykernel_15536\\3899624769.py:44: UserWarning:\n",
      "\n",
      "set_ticklabels() should only be used with a fixed number of ticks, i.e. after set_ticks() or using a FixedLocator.\n",
      "\n"
     ]
    },
    {
     "data": {
      "image/png": "[encoded data removed]",
      "text/plain": [
       "<Figure size 1400x600 with 2 Axes>"
      ]
     },
     "metadata": {},
     "output_type": "display_data"
    }
   ],
   "source": [
    "import matplotlib.pyplot as plt\n",
    "import pandas as pd\n",
    "\n",
    "# Define our country groups\n",
    "developed = ['United States', 'Germany', 'Japan', 'United Kingdom', 'Canada']\n",
    "developing = ['India', 'Brazil', 'South Africa', 'Indonesia', 'Mexico']\n",
    "\n",
    "# Filter for the latest year\n",
    "latest_year = data_clean['year'].max()\n",
    "df_latest = data_clean[(data_clean['year'] == latest_year) & \n",
    "                       (data_clean['country'].isin(developed + developing))]\n",
    "\n",
    "# Aggregate total and per‑capita CO₂ by group\n",
    "df_latest['group'] = df_latest['country'].apply(\n",
    "    lambda c: 'Developed' if c in developed else 'Developing'\n",
    ")\n",
    "\n",
    "agg = (\n",
    "    df_latest\n",
    "    .groupby(['group', 'country'])\n",
    "    .agg(total_co2 = ('co2', 'sum'),\n",
    "         co2_pc    = ('co2_per_capita', 'mean'))\n",
    "    .reset_index()\n",
    ")\n",
    "\n",
    "# Plotting\n",
    "fig, axes = plt.subplots(1, 2, figsize=(14, 6))\n",
    "\n",
    "# Total CO₂ emissions bar chart\n",
    "for grp, color in zip(['Developed', 'Developing'], ['#2c7fb8', '#7fcdbb']):\n",
    "    subset = agg[agg['group'] == grp]\n",
    "    axes[0].bar(subset['country'], subset['total_co2'], label=grp, color=color)\n",
    "axes[0].set_title(f\"Total CO₂ Emissions by Country in {latest_year}\")\n",
    "axes[0].set_ylabel(\"Total CO₂ Emissions (Mt)\")\n",
    "axes[0].set_xticklabels(axes[0].get_xticklabels(), rotation=45, ha='right')\n",
    "axes[0].grid(axis='y', linestyle='--', alpha=0.6)\n",
    "\n",
    "# Per‑capita CO₂ emissions bar chart\n",
    "for grp, color in zip(['Developed', 'Developing'], ['#2c7fb8', '#7fcdbb']):\n",
    "    subset = agg[agg['group'] == grp]\n",
    "    axes[1].bar(subset['country'], subset['co2_pc'], label=grp, color=color)\n",
    "axes[1].set_title(f\"CO₂ Emissions Per Capita by Country in {latest_year}\")\n",
    "axes[1].set_ylabel(\"CO₂ per Capita (t/person)\")\n",
    "axes[1].set_xticklabels(axes[1].get_xticklabels(), rotation=45, ha='right')\n",
    "axes[1].grid(axis='y', linestyle='--', alpha=0.6)\n",
    "\n",
    "# Legend & layout\n",
    "axes[0].legend(title=\"Group\")\n",
    "axes[1].legend(title=\"Group\")\n",
    "plt.tight_layout()\n",
    "plt.show()\n"
   ]
  },
  {
   "cell_type": "markdown",
   "id": "c8f558c4",
   "metadata": {},
   "source": [
    "The comparison between developed and developing countries reveals stark contrasts in CO₂ emissions patterns. Developed nations like the U.S. and Germany show significantly higher per capita emissions (likely 10-20 t/person) compared to developing countries such as India and Indonesia (typically 1-5 t/person), reflecting greater energy consumption and industrialization in wealthier economies. However, some developing nations like South Africa and Mexico may bridge this gap due to fossil fuel dependence. In absolute terms, the U.S. likely dwarfs other countries' total emissions, while populous developing nations like India may rank high in total volume despite low per capita figures. This disparity highlights the climate policy dilemma: developed nations must reduce high per capita emissions through technology and efficiency, while developing countries face the challenge of curbing emission growth during economic expansion. The data underscores that equitable climate solutions must address both historical responsibility (cumulative emissions) and future development needs."
   ]
  },
  {
   "cell_type": "markdown",
   "id": "978a8450",
   "metadata": {},
   "source": [
    "# Population vs. Total CO₂ Emissions\n",
    "\n",
    "**Indicators:**\n",
    "- **Population** (`population`): Total population of each country.\n",
    "- **Total CO₂ Emissions** (`co2`): Annual CO₂ emissions (million tonnes).\n",
    "\n",
    "**Objective:**\n",
    "- Examine the relationship between a country’s population size and its total CO₂ emissions for the most recent year.\n",
    "- Identify outliers—countries that emit more or less than expected given their population.\n",
    "\n",
    "**Approach:**\n",
    "1. Filter to the latest year and drop missing values in `population` and `co2`.\n",
    "2. Create a scatter plot with a best‑fit regression line.\n",
    "3. Annotate a few notable outliers (e.g., China, India, USA, small high‑emitting countries).\n"
   ]
  },
  {
   "cell_type": "code",
   "execution_count": 22,
   "id": "51847cbb",
   "metadata": {},
   "outputs": [
    {
     "data": {
      "application/vnd.plotly.v1+json": {
       "config": {
        "plotlyServerURL": "https://plot.ly"
       },
       "data": [
        {
         "hovertemplate": "<b>%{hovertext}</b><br><br>log₁₀(Population)=%{x}<br>log₁₀(Total CO₂ Emissions)=%{y}<extra></extra>",
         "hovertext": [
          "Afghanistan",
          "Africa",
          "Albania",
          "Algeria",
          "Andorra",
          "Angola",
          "Anguilla",
          "Antigua and Barbuda",
          "Argentina",
          "Armenia",
          "Aruba",
          "Asia",
          "Asia (excl. China and India)",
          "Australia",
          "Austria",
          "Azerbaijan",
          "Bahamas",
          "Bahrain",
          "Bangladesh",
          "Barbados",
          "Belarus",
          "Belgium",
          "Belize",
          "Benin",
          "Bermuda",
          "Bhutan",
          "Bolivia",
          "Bonaire Sint Eustatius and Saba",
          "Bosnia and Herzegovina",
          "Botswana",
          "Brazil",
          "British Virgin Islands",
          "Brunei",
          "Bulgaria",
          "Burkina Faso",
          "Burundi",
          "Cambodia",
          "Cameroon",
          "Canada",
          "Cape Verde",
          "Central African Republic",
          "Chad",
          "Chile",
          "China",
          "Colombia",
          "Comoros",
          "Congo",
          "Cook Islands",
          "Costa Rica",
          "Cote d'Ivoire",
          "Croatia",
          "Cuba",
          "Curacao",
          "Cyprus",
          "Czechia",
          "Democratic Republic of Congo",
          "Denmark",
          "Djibouti",
          "Dominica",
          "Dominican Republic",
          "East Timor",
          "Ecuador",
          "Egypt",
          "El Salvador",
          "Equatorial Guinea",
          "Eritrea",
          "Estonia",
          "Eswatini",
          "Ethiopia",
          "Europe",
          "European Union (27)",
          "Faroe Islands",
          "Fiji",
          "Finland",
          "France",
          "French Polynesia",
          "Gabon",
          "Gambia",
          "Georgia",
          "Germany",
          "Ghana",
          "Greece",
          "Greenland",
          "Grenada",
          "Guatemala",
          "Guinea",
          "Guinea-Bissau",
          "Guyana",
          "Haiti",
          "High-income countries",
          "Honduras",
          "Hong Kong",
          "Hungary",
          "Iceland",
          "India",
          "Indonesia",
          "Iran",
          "Iraq",
          "Ireland",
          "Israel",
          "Italy",
          "Jamaica",
          "Japan",
          "Jordan",
          "Kazakhstan",
          "Kenya",
          "Kiribati",
          "Kosovo",
          "Kuwait",
          "Kyrgyzstan",
          "Laos",
          "Latvia",
          "Lebanon",
          "Lesotho",
          "Liberia",
          "Libya",
          "Liechtenstein",
          "Lithuania",
          "Low-income countries",
          "Lower-middle-income countries",
          "Luxembourg",
          "Macao",
          "Madagascar",
          "Malawi",
          "Malaysia",
          "Maldives",
          "Mali",
          "Malta",
          "Marshall Islands",
          "Mauritania",
          "Mauritius",
          "Mexico",
          "Micronesia (country)",
          "Moldova",
          "Mongolia",
          "Montenegro",
          "Montserrat",
          "Morocco",
          "Mozambique",
          "Myanmar",
          "Namibia",
          "Nauru",
          "Nepal",
          "Netherlands",
          "New Caledonia",
          "New Zealand",
          "Nicaragua",
          "Niger",
          "Nigeria",
          "Niue",
          "North America",
          "North Korea",
          "North Macedonia",
          "Norway",
          "Oceania",
          "Oman",
          "Pakistan",
          "Palau",
          "Palestine",
          "Panama",
          "Papua New Guinea",
          "Paraguay",
          "Peru",
          "Philippines",
          "Poland",
          "Portugal",
          "Qatar",
          "Romania",
          "Russia",
          "Rwanda",
          "Saint Helena",
          "Saint Kitts and Nevis",
          "Saint Lucia",
          "Saint Pierre and Miquelon",
          "Saint Vincent and the Grenadines",
          "Samoa",
          "Sao Tome and Principe",
          "Saudi Arabia",
          "Senegal",
          "Serbia",
          "Seychelles",
          "Sierra Leone",
          "Singapore",
          "Sint Maarten (Dutch part)",
          "Slovakia",
          "Slovenia",
          "Solomon Islands",
          "Somalia",
          "South Africa",
          "South America",
          "South Korea",
          "South Sudan",
          "Spain",
          "Sri Lanka",
          "Sudan",
          "Suriname",
          "Sweden",
          "Switzerland",
          "Syria",
          "Taiwan",
          "Tajikistan",
          "Tanzania",
          "Thailand",
          "Togo",
          "Tonga",
          "Trinidad and Tobago",
          "Tunisia",
          "Turkey",
          "Turkmenistan",
          "Turks and Caicos Islands",
          "Tuvalu",
          "Uganda",
          "Ukraine",
          "United Arab Emirates",
          "United Kingdom",
          "United States",
          "Upper-middle-income countries",
          "Uruguay",
          "Uzbekistan",
          "Vanuatu",
          "Venezuela",
          "Vietnam",
          "Wallis and Futuna",
          "World",
          "Yemen",
          "Zambia",
          "Zimbabwe"
         ],
         "legendgroup": "",
         "marker": {
          "color": "#636efa",
          "opacity": 0.7,
          "symbol": "circle"
         },
         "mode": "markers",
         "name": "",
         "orientation": "v",
         "showlegend": false,
         "type": "scatter",
         "x": [
          7.617574426117512,
          9.170487824179418,
          6.44896280246038,
          7.664305511438808,
          4.907776702419327,
          7.565256244387889,
          4.159416788216739,
          4.970035225568066,
          7.658377786605021,
          6.4688485477976005,
          5.033206553941086,
          9.679124296085394,
          9.264611578577966,
          7.422444147860883,
          6.960491421491083,
          7.013604362548057,
          5.601464599951474,
          6.195809464700822,
          8.234180514010124,
          5.450784715777377,
          6.95978907115144,
          7.068664213001311,
          5.613963322799284,
          7.149558869055825,
          4.811045218912108,
          5.895636325430728,
          7.087929031555147,
          4.475947073759948,
          6.503119117853327,
          6.394494057494413,
          8.324572020812266,
          4.591153683938288,
          5.6617738906155495,
          6.83224084474881,
          7.362214313153301,
          7.136386158491616,
          7.241144896317816,
          7.452900482368543,
          7.594382593535382,
          5.717949127498095,
          6.712011004481851,
          7.285986283536852,
          7.2935577554908795,
          9.153078205871452,
          7.718677297658246,
          5.929618144541635,
          6.791191449778802,
          4.153601474288411,
          6.7080405772513805,
          7.4936762030314785,
          6.590621623523688,
          7.042178875240533,
          5.268196392659724,
          6.128715503479453,
          7.033814525089439,
          8.024443521028003,
          6.774380743778137,
          6.061810850328687,
          4.8230240511962075,
          7.054278511327678,
          6.141227709060638,
          7.254791595583455,
          8.058941147426166,
          6.800003755074611,
          6.266597610867893,
          6.540378533529079,
          6.135830143793569,
          6.090084441561423,
          8.109550524389014,
          8.873290428637775,
          8.653846671565601,
          4.7382889252474385,
          5.965742467849091,
          6.748279917098717,
          7.822421962767584,
          5.448897923596186,
          6.395289690576387,
          6.431017477351885,
          6.580639227630156,
          7.927104540708864,
          7.528761392960667,
          7.010423314377363,
          4.747807852984134,
          5.068530933054931,
          7.258274229376702,
          7.158527402206595,
          6.333113414574028,
          5.917169286972708,
          7.06585603675731,
          9.100071077880784,
          7.027139750027158,
          6.871732731183599,
          6.986165223903108,
          5.588337826646065,
          9.157779904726727,
          8.448999976771075,
          7.957169937793974,
          7.65392663028989,
          6.715721712588851,
          6.96643793791807,
          7.774512965821456,
          6.453285460875149,
          8.094718941197275,
          7.058396374494697,
          7.308139643030319,
          7.743031361919322,
          5.122343689537709,
          6.230458884490341,
          6.684735876922014,
          6.849635770003396,
          6.884512272509227,
          6.274711914167965,
          6.761438568373488,
          6.363889388528296,
          6.739812287163847,
          6.863659456603,
          4.5979254325604595,
          6.455469946382616,
          8.867152973081428,
          9.512345375380226,
          5.822887600809877,
          5.853647115301981,
          7.494098020693637,
          7.324374655902284,
          7.545632344329129,
          5.720993174984344,
          7.376013267659002,
          5.726697874825128,
          4.589379844241917,
          6.700914757202355,
          6.105029640404689,
          8.113073103601986,
          5.051715774765838,
          6.48672382963469,
          6.535539560004514,
          5.801785693681754,
          3.6473829701146196,
          7.576485518953798,
          7.526793562490465,
          7.733468522109916,
          6.471746455055851,
          4.075546961392531,
          7.472677684259965,
          7.257499181400595,
          5.462218252646241,
          6.713728961591047,
          6.834014706152473,
          7.417635448643186,
          8.357711830962543,
          3.2650537885040145,
          8.784453639751932,
          7.42190315794184,
          6.2628780546823055,
          6.741873456540317,
          7.658613579275162,
          6.703228422355667,
          8.393583106479884,
          4.249198357391113,
          6.733133119650418,
          6.6492139989702155,
          7.016600415955514,
          6.835319646109888,
          7.529502435622017,
          8.060286765522049,
          7.588415667010896,
          7.018314911992928,
          6.474083186353081,
          7.281453383780862,
          8.162685370856163,
          7.144713470835197,
          3.725584972270694,
          4.670088067872248,
          5.253563334064593,
          3.7564078725489582,
          5.00574232857207,
          5.335806800872292,
          5.363388194785201,
          7.521978232096501,
          7.257140123956885,
          6.830794092062682,
          5.1070776253850685,
          6.927397210437784,
          6.762610376391339,
          4.631190018213138,
          6.741786182308012,
          6.326006942705333,
          5.903097044219935,
          7.2638400562452485,
          7.8008021834155175,
          8.636512198110601,
          7.713899813443181,
          7.060069471696815,
          7.680440520196643,
          7.361191547880985,
          7.699341592713208,
          5.7985760701969,
          7.023313915158452,
          6.9479512336198646,
          7.372813024076546,
          7.367675373417535,
          7.016607522021953,
          7.823589028154603,
          7.855533922640548,
          6.9686857587431765,
          5.01958980801014,
          6.176940487281098,
          7.086375279892182,
          7.9408674791120735,
          6.867139551295527,
          4.66482054479562,
          3.9928626713890276,
          7.687141793959193,
          7.576719401962626,
          7.0270268866172,
          7.8368490351106646,
          8.535898080807044,
          9.453307036468523,
          6.5299540409740375,
          7.552087661915391,
          5.505722326858491,
          7.4517996329652645,
          8.001526850268968,
          4.056676215120661,
          9.908041647930665,
          7.595394801120323,
          7.316472913018956,
          7.213274085304894
         ],
         "xaxis": "x",
         "y": [
          1.0421815945157662,
          3.151902507307016,
          0.7113009599161657,
          2.2507443820702666,
          -0.37263414340726736,
          1.3176664423565012,
          -0.8386319977650252,
          -0.19044028536473223,
          2.2918259955721614,
          0.8812705039293575,
          -0.06198090252378971,
          4.354112685988605,
          3.8828314523434484,
          2.583167022819759,
          1.7677345396946489,
          1.6428304001510625,
          0.3988077302032645,
          1.5626140046250614,
          2.0547164456969793,
          0.0762762554042176,
          1.751979262656985,
          1.9209993828886325,
          -0.1752235375244543,
          0.7475671627376249,
          -0.2814983111327257,
          0.2337573629655105,
          1.3684542466690497,
          -0.9393021596463883,
          1.3048996403328652,
          0.8269813369119937,
          2.687056063029479,
          -0.7328282715969862,
          1.0707764628434346,
          1.557435013998147,
          0.7914801160200009,
          -0.14874165128092473,
          1.3048781176982793,
          0.9974300737974713,
          2.739808808388049,
          -0.27164621797877153,
          -0.5512936800949201,
          0.48840968890319814,
          1.8881120691014788,
          4.075638299609542,
          2.022176712688606,
          -0.3477536589966768,
          0.8850217948622976,
          -1.136677139879544,
          0.9179778825929082,
          1.1204423068733063,
          1.2436332445061378,
          1.3635555743486008,
          0.3059958827708047,
          0.8557613723399478,
          1.9325955124185206,
          0.664265800147675,
          1.4356055020228402,
          -0.30715308072277,
          -0.7878123955960422,
          1.505421327583281,
          -0.19928292171761497,
          1.6352122279052221,
          2.429761966760145,
          0.9153998352122699,
          0.7882390973821681,
          -0.20690839982341983,
          1.0008243766056055,
          0.04296907339318013,
          1.1826143477363498,
          3.6983807883576234,
          3.3997813301275865,
          -0.09799710864927055,
          0.05918461763137114,
          1.499989334334184,
          2.435328255138936,
          -0.0381045263321496,
          0.7332775339325817,
          -0.14813039927023372,
          1.0707395628491982,
          2.7753562767886106,
          1.293296245148464,
          1.7419076059742735,
          -0.22475374025976358,
          -0.4698003017969178,
          1.3092467972536717,
          0.6067037413336743,
          -0.5257837359237448,
          0.5496162395190853,
          0.5467893516312581,
          4.146571565018237,
          1.0430477428041194,
          1.5298280188492608,
          1.6041180061920348,
          0.5754187912143601,
          3.486051138017402,
          2.8652366719161737,
          2.912689588315769,
          2.2466413525633517,
          1.5369748625735882,
          1.7744366685697441,
          2.496183514741187,
          0.8836046609222925,
          2.995101869489643,
          1.3261104609708299,
          2.4068142955227514,
          1.3330642009519784,
          -1.1611509092627446,
          0.9230885154423993,
          1.9966561210919556,
          1.0065516090866484,
          1.394381627679536,
          0.8137810781740825,
          1.289477466344602,
          0.5898379431474597,
          -0.11294562194904302,
          1.785158931428092,
          -0.8041003475907662,
          1.0955877469187427,
          2.2935393307317566,
          3.6886497236286417,
          0.8446635282402392,
          0.024074987307426243,
          0.6508900778563125,
          0.24353410183206192,
          2.460633278352235,
          0.3142886609474977,
          0.8300751664297501,
          0.26054837263697944,
          -0.8153085691824012,
          0.6447339274471926,
          0.61689542640076,
          2.6836080149102437,
          -0.826813731587726,
          0.7753919716966119,
          1.6708949535202102,
          0.36698297597785084,
          -1.6575773191777938,
          1.8367543984701804,
          0.904336792202495,
          1.4804812440617554,
          0.6205524447294353,
          -1.2441251443275085,
          1.2221179287582224,
          2.0743336229390787,
          0.7048366062114036,
          1.4788405484818015,
          0.7472563974421443,
          0.4146391467370091,
          2.1090382955743814,
          -2.0969100130080562,
          3.7870032682937715,
          1.7836463550648187,
          0.8720979742742268,
          1.5899607655647774,
          2.6337743739210495,
          1.8949305090334203,
          2.3024759579569682,
          -0.6536470255493614,
          0.5436956323092448,
          1.1466860556475256,
          0.9202277114569285,
          0.9105710484812585,
          1.7471320290329602,
          2.1891504934400454,
          2.4613214113739517,
          1.5708697052408207,
          2.0633784001232316,
          1.8340326538912362,
          3.259097907643895,
          0.18752072083646307,
          -1.958607314841775,
          -0.632644078973981,
          -0.29157909986528724,
          -1.2518119729937995,
          -0.6252516539898961,
          -0.5900668766687055,
          -0.7798919119599449,
          2.8669987626692404,
          1.075583455193813,
          1.626935446018323,
          -0.2588484011482149,
          0.09061070782840665,
          1.69243268851415,
          -0.1592667653881933,
          1.4876897349416687,
          1.0541532403456937,
          -0.518557371497695,
          -0.25336580106242124,
          2.6041104419027876,
          3.0449178396146857,
          2.761489565996915,
          0.19865708695442263,
          2.3456011119267286,
          1.3078809559882532,
          1.3010517098452263,
          0.4227539413013482,
          1.562958668654623,
          1.5150388784008575,
          1.406591270897152,
          2.4168950191676983,
          0.9568884546500772,
          1.2568620058964028,
          2.4222433822104295,
          0.41830129131974547,
          -0.7011469235902933,
          1.5355219699029694,
          1.5157811490221584,
          2.6355611488871697,
          1.8018357312803308,
          -0.43062609038495414,
          -1.9208187539523751,
          0.7492724082984203,
          2.1350085495094056,
          2.360563121699302,
          2.4845076813897333,
          3.691204510059708,
          4.245045303101488,
          0.8957539420737279,
          2.0961032135078916,
          -0.645891560852599,
          1.998124145406234,
          2.5246894476968142,
          -1.5086383061657274,
          4.577394934472539,
          1.0015173768235044,
          0.8892456608929796,
          1.0478198278165933
         ],
         "yaxis": "y"
        },
        {
         "line": {
          "color": "red",
          "width": 2
         },
         "mode": "lines",
         "name": "Fit: log₁₀(CO₂) = 0.92·log₁₀(Pop) + -5.08",
         "type": "scatter",
         "x": [
          3.2650537885040145,
          3.6473829701146196,
          3.725584972270694,
          3.7564078725489582,
          3.9928626713890276,
          4.056676215120661,
          4.075546961392531,
          4.153601474288411,
          4.159416788216739,
          4.249198357391113,
          4.475947073759948,
          4.589379844241917,
          4.591153683938288,
          4.5979254325604595,
          4.631190018213138,
          4.66482054479562,
          4.670088067872248,
          4.7382889252474385,
          4.747807852984134,
          4.811045218912108,
          4.8230240511962075,
          4.907776702419327,
          4.970035225568066,
          5.00574232857207,
          5.01958980801014,
          5.033206553941086,
          5.051715774765838,
          5.068530933054931,
          5.1070776253850685,
          5.122343689537709,
          5.253563334064593,
          5.268196392659724,
          5.335806800872292,
          5.363388194785201,
          5.448897923596186,
          5.450784715777377,
          5.462218252646241,
          5.505722326858491,
          5.588337826646065,
          5.601464599951474,
          5.613963322799284,
          5.6617738906155495,
          5.717949127498095,
          5.720993174984344,
          5.726697874825128,
          5.7985760701969,
          5.801785693681754,
          5.822887600809877,
          5.853647115301981,
          5.895636325430728,
          5.903097044219935,
          5.917169286972708,
          5.929618144541635,
          5.965742467849091,
          6.061810850328687,
          6.090084441561423,
          6.105029640404689,
          6.128715503479453,
          6.135830143793569,
          6.141227709060638,
          6.176940487281098,
          6.195809464700822,
          6.230458884490341,
          6.2628780546823055,
          6.266597610867893,
          6.274711914167965,
          6.326006942705333,
          6.333113414574028,
          6.363889388528296,
          6.394494057494413,
          6.395289690576387,
          6.431017477351885,
          6.44896280246038,
          6.453285460875149,
          6.455469946382616,
          6.4688485477976005,
          6.471746455055851,
          6.474083186353081,
          6.48672382963469,
          6.503119117853327,
          6.5299540409740375,
          6.535539560004514,
          6.540378533529079,
          6.580639227630156,
          6.590621623523688,
          6.6492139989702155,
          6.684735876922014,
          6.700914757202355,
          6.703228422355667,
          6.7080405772513805,
          6.712011004481851,
          6.713728961591047,
          6.715721712588851,
          6.733133119650418,
          6.739812287163847,
          6.741786182308012,
          6.741873456540317,
          6.748279917098717,
          6.761438568373488,
          6.762610376391339,
          6.774380743778137,
          6.791191449778802,
          6.800003755074611,
          6.830794092062682,
          6.83224084474881,
          6.834014706152473,
          6.835319646109888,
          6.849635770003396,
          6.863659456603,
          6.867139551295527,
          6.871732731183599,
          6.884512272509227,
          6.927397210437784,
          6.9479512336198646,
          6.95978907115144,
          6.960491421491083,
          6.96643793791807,
          6.9686857587431765,
          6.986165223903108,
          7.010423314377363,
          7.013604362548057,
          7.016600415955514,
          7.016607522021953,
          7.018314911992928,
          7.023313915158452,
          7.0270268866172,
          7.027139750027158,
          7.033814525089439,
          7.042178875240533,
          7.054278511327678,
          7.058396374494697,
          7.060069471696815,
          7.06585603675731,
          7.068664213001311,
          7.086375279892182,
          7.087929031555147,
          7.136386158491616,
          7.144713470835197,
          7.149558869055825,
          7.158527402206595,
          7.213274085304894,
          7.241144896317816,
          7.254791595583455,
          7.257140123956885,
          7.257499181400595,
          7.258274229376702,
          7.2638400562452485,
          7.281453383780862,
          7.285986283536852,
          7.2935577554908795,
          7.308139643030319,
          7.316472913018956,
          7.324374655902284,
          7.361191547880985,
          7.362214313153301,
          7.367675373417535,
          7.372813024076546,
          7.376013267659002,
          7.417635448643186,
          7.42190315794184,
          7.422444147860883,
          7.4517996329652645,
          7.452900482368543,
          7.472677684259965,
          7.4936762030314785,
          7.494098020693637,
          7.521978232096501,
          7.526793562490465,
          7.528761392960667,
          7.529502435622017,
          7.545632344329129,
          7.552087661915391,
          7.565256244387889,
          7.576485518953798,
          7.576719401962626,
          7.588415667010896,
          7.594382593535382,
          7.595394801120323,
          7.617574426117512,
          7.65392663028989,
          7.658377786605021,
          7.658613579275162,
          7.664305511438808,
          7.680440520196643,
          7.687141793959193,
          7.699341592713208,
          7.713899813443181,
          7.718677297658246,
          7.733468522109916,
          7.743031361919322,
          7.774512965821456,
          7.8008021834155175,
          7.822421962767584,
          7.823589028154603,
          7.8368490351106646,
          7.855533922640548,
          7.927104540708864,
          7.9408674791120735,
          7.957169937793974,
          8.001526850268968,
          8.024443521028003,
          8.058941147426166,
          8.060286765522049,
          8.094718941197275,
          8.109550524389014,
          8.113073103601986,
          8.162685370856163,
          8.234180514010124,
          8.324572020812266,
          8.357711830962543,
          8.393583106479884,
          8.448999976771075,
          8.535898080807044,
          8.636512198110601,
          8.653846671565601,
          8.784453639751932,
          8.867152973081428,
          8.873290428637775,
          9.100071077880784,
          9.153078205871452,
          9.157779904726727,
          9.170487824179418,
          9.264611578577966,
          9.453307036468523,
          9.512345375380226,
          9.679124296085394,
          9.908041647930665
         ],
         "y": [
          -2.089867195272144,
          -1.7392039775231511,
          -1.6674789640283874,
          -1.639208934138436,
          -1.4223382253315475,
          -1.3638099631501603,
          -1.3465021641975858,
          -1.274912424338868,
          -1.269578756932845,
          -1.1872332404106336,
          -0.9792647192336874,
          -0.8752268842773647,
          -0.8735999607632348,
          -0.8673890742396511,
          -0.8368795886887019,
          -0.8060344708341693,
          -0.8012032241481686,
          -0.7386510224049543,
          -0.7299204886392392,
          -0.6719206830139948,
          -0.6609339833958208,
          -0.5832008706225302,
          -0.526098836276975,
          -0.4933491319956227,
          -0.4806485537216565,
          -0.4681595987240259,
          -0.45118338229949817,
          -0.43576091967770036,
          -0.4004068117094697,
          -0.3864051413280043,
          -0.26605360920629284,
          -0.25263251644308227,
          -0.19062186060648845,
          -0.16532486313755435,
          -0.08689737683533671,
          -0.08516685599281804,
          -0.07468028833978746,
          -0.03477938780116219,
          0.0409935805854289,
          0.05303314436276274,
          0.06449667522143976,
          0.10834738910687136,
          0.15986997820159488,
          0.16266190604244812,
          0.16789412084235966,
          0.233819089396623,
          0.23676287959913989,
          0.25611704613964914,
          0.284328940096473,
          0.3228404433839245,
          0.32968323693246404,
          0.34258996276449416,
          0.3540077583772412,
          0.3871401271821391,
          0.47525175910707596,
          0.5011836234686324,
          0.5148910038318082,
          0.5366151132130748,
          0.5431404918283418,
          0.5480910101136249,
          0.5808459195683193,
          0.5981520961718418,
          0.6299317186043849,
          0.6596658092337657,
          0.663077297562074,
          0.6705195432546684,
          0.7175661215086908,
          0.7240840082204025,
          0.7523109984038365,
          0.7803808717328655,
          0.7811106074425425,
          0.8138792823863916,
          0.8303383070927657,
          0.8343029464189273,
          0.836306504488828,
          0.8485770390093599,
          0.8512349305143596,
          0.8533781247959196,
          0.8649718216957316,
          0.8800091894908082,
          0.9046215417311325,
          0.9097444467308868,
          0.9141826379763947,
          0.9511087875389732,
          0.9602644032576695,
          1.0140039342636031,
          1.0465837545393963,
          1.0614226381286125,
          1.0635446766924401,
          1.067958270530422,
          1.0715998518049927,
          1.0731755211413683,
          1.0750032248863945,
          1.0909725526788128,
          1.0970985260148707,
          1.0989089356201118,
          1.0989889814669862,
          1.1048648344801588,
          1.1169336359716118,
          1.118008390371453,
          1.128803890951752,
          1.1442222700406628,
          1.1523047065363476,
          1.1805448701522376,
          1.1818717972522501,
          1.183498740675791,
          1.184695600519209,
          1.1978260083239256,
          1.2106881996089447,
          1.2138800595601316,
          1.2180928147374006,
          1.2298139056144368,
          1.269146949102364,
          1.2879986095389366,
          1.2988559921287912,
          1.2995001711293286,
          1.3049541743416917,
          1.3070158220561945,
          1.3230475711151914,
          1.3452965138360007,
          1.348214095441075,
          1.3509620042561465,
          1.3509685217710077,
          1.3525344991799306,
          1.3571194657999923,
          1.360524914773702,
          1.3606284304047476,
          1.3667503750892482,
          1.3744219577971286,
          1.3855194557857367,
          1.389296261789176,
          1.390830786687407,
          1.3961380863166921,
          1.3987136786729417,
          1.4149578473224746,
          1.416382911335174,
          1.460826633843701,
          1.468464246356823,
          1.4729083301805144,
          1.4811340551431993,
          1.5313464087371935,
          1.5569088526759325,
          1.5694252801586135,
          1.5715792944374414,
          1.571908613371554,
          1.572619468912495,
          1.5777243127304228,
          1.5938788371716042,
          1.5980363048476862,
          1.6049806785607021,
          1.6183548384505997,
          1.6259979151738468,
          1.6332452055156947,
          1.6670127818078893,
          1.6679508377519365,
          1.6729595921360776,
          1.6776717229343854,
          1.6806069101138652,
          1.7187817830130783,
          1.722696024318906,
          1.7231922073855035,
          1.7501163590338829,
          1.751126031882774,
          1.769265210336541,
          1.7885245515392247,
          1.7889114326506608,
          1.814482498403124,
          1.818899004732458,
          1.8207038519632093,
          1.82138351863951,
          1.8361774866683334,
          1.8420981501836176,
          1.8541760603330504,
          1.8644752834676295,
          1.864689795391901,
          1.8754173310725246,
          1.8808900539401172,
          1.8818184266248013,
          1.9021610503220474,
          1.9355024260278055,
          1.9395849205671771,
          1.9398011839873144,
          1.9450216885779001,
          1.9598203342517557,
          1.9659665829129054,
          1.97715594771355,
          1.9905084009695821,
          1.994890195685179,
          2.008456354404271,
          2.0172271632770293,
          2.046101340439537,
          2.0702131845703002,
          2.090042331178158,
          2.0911127357499764,
          2.103274498257872,
          2.120411831999717,
          2.186054697978178,
          2.1986777372288566,
          2.213629963984171,
          2.254313067461565,
          2.275331691974098,
          2.306972093124025,
          2.308206261987033,
          2.339786633293011,
          2.3533898080870923,
          2.3566206338283884,
          2.4021238235192337,
          2.467697465704168,
          2.5506024024889875,
          2.580997446921465,
          2.6138977263212277,
          2.6647247596437307,
          2.744425630629233,
          2.8367065022488465,
          2.852605268369989,
          2.9723948683469645,
          3.0482447268611734,
          3.0538738548945448,
          3.261871664142997,
          3.3104885392309447,
          3.314800825419856,
          3.326456226421171,
          3.412784291793975,
          3.5858512707773196,
          3.639999828850029,
          3.792965482009987,
          4.00292302398594
         ]
        },
        {
         "marker": {
          "size": 12,
          "symbol": "star"
         },
         "mode": "markers+text",
         "name": "China",
         "showlegend": false,
         "text": [
          "China"
         ],
         "textposition": "top center",
         "type": "scatter",
         "x": [
          9.153078205871452
         ],
         "y": [
          4.075638299609542
         ]
        },
        {
         "marker": {
          "size": 12,
          "symbol": "star"
         },
         "mode": "markers+text",
         "name": "United States",
         "showlegend": false,
         "text": [
          "United States"
         ],
         "textposition": "top center",
         "type": "scatter",
         "x": [
          8.535898080807044
         ],
         "y": [
          3.691204510059708
         ]
        },
        {
         "marker": {
          "size": 12,
          "symbol": "star"
         },
         "mode": "markers+text",
         "name": "India",
         "showlegend": false,
         "text": [
          "India"
         ],
         "textposition": "top center",
         "type": "scatter",
         "x": [
          9.157779904726727
         ],
         "y": [
          3.486051138017402
         ]
        },
        {
         "marker": {
          "size": 12,
          "symbol": "star"
         },
         "mode": "markers+text",
         "name": "Russia",
         "showlegend": false,
         "text": [
          "Russia"
         ],
         "textposition": "top center",
         "type": "scatter",
         "x": [
          8.162685370856163
         ],
         "y": [
          3.259097907643895
         ]
        },
        {
         "marker": {
          "size": 12,
          "symbol": "star"
         },
         "mode": "markers+text",
         "name": "Japan",
         "showlegend": false,
         "text": [
          "Japan"
         ],
         "textposition": "top center",
         "type": "scatter",
         "x": [
          8.094718941197275
         ],
         "y": [
          2.995101869489643
         ]
        }
       ],
       "layout": {
        "legend": {
         "title": {
          "text": ""
         },
         "tracegroupgap": 0
        },
        "margin": {
         "b": 60,
         "l": 60,
         "r": 20,
         "t": 80
        },
        "template": {
         "data": {
          "bar": [
           {
            "error_x": {
             "color": "rgb(36,36,36)"
            },
            "error_y": {
             "color": "rgb(36,36,36)"
            },
            "marker": {
             "line": {
              "color": "white",
              "width": 0.5
             },
             "pattern": {
              "fillmode": "overlay",
              "size": 10,
              "solidity": 0.2
             }
            },
            "type": "bar"
           }
          ],
          "barpolar": [
           {
            "marker": {
             "line": {
              "color": "white",
              "width": 0.5
             },
             "pattern": {
              "fillmode": "overlay",
              "size": 10,
              "solidity": 0.2
             }
            },
            "type": "barpolar"
           }
          ],
          "carpet": [
           {
            "aaxis": {
             "endlinecolor": "rgb(36,36,36)",
             "gridcolor": "white",
             "linecolor": "white",
             "minorgridcolor": "white",
             "startlinecolor": "rgb(36,36,36)"
            },
            "baxis": {
             "endlinecolor": "rgb(36,36,36)",
             "gridcolor": "white",
             "linecolor": "white",
             "minorgridcolor": "white",
             "startlinecolor": "rgb(36,36,36)"
            },
            "type": "carpet"
           }
          ],
          "choropleth": [
           {
            "colorbar": {
             "outlinewidth": 1,
             "tickcolor": "rgb(36,36,36)",
             "ticks": "outside"
            },
            "type": "choropleth"
           }
          ],
          "contour": [
           {
            "colorbar": {
             "outlinewidth": 1,
             "tickcolor": "rgb(36,36,36)",
             "ticks": "outside"
            },
            "colorscale": [
             [
              0,
              "#440154"
             ],
             [
              0.1111111111111111,
              "#482878"
             ],
             [
              0.2222222222222222,
              "#3e4989"
             ],
             [
              0.3333333333333333,
              "#31688e"
             ],
             [
              0.4444444444444444,
              "#26828e"
             ],
             [
              0.5555555555555556,
              "#1f9e89"
             ],
             [
              0.6666666666666666,
              "#35b779"
             ],
             [
              0.7777777777777778,
              "#6ece58"
             ],
             [
              0.8888888888888888,
              "#b5de2b"
             ],
             [
              1,
              "#fde725"
             ]
            ],
            "type": "contour"
           }
          ],
          "contourcarpet": [
           {
            "colorbar": {
             "outlinewidth": 1,
             "tickcolor": "rgb(36,36,36)",
             "ticks": "outside"
            },
            "type": "contourcarpet"
           }
          ],
          "heatmap": [
           {
            "colorbar": {
             "outlinewidth": 1,
             "tickcolor": "rgb(36,36,36)",
             "ticks": "outside"
            },
            "colorscale": [
             [
              0,
              "#440154"
             ],
             [
              0.1111111111111111,
              "#482878"
             ],
             [
              0.2222222222222222,
              "#3e4989"
             ],
             [
              0.3333333333333333,
              "#31688e"
             ],
             [
              0.4444444444444444,
              "#26828e"
             ],
             [
              0.5555555555555556,
              "#1f9e89"
             ],
             [
              0.6666666666666666,
              "#35b779"
             ],
             [
              0.7777777777777778,
              "#6ece58"
             ],
             [
              0.8888888888888888,
              "#b5de2b"
             ],
             [
              1,
              "#fde725"
             ]
            ],
            "type": "heatmap"
           }
          ],
          "heatmapgl": [
           {
            "colorbar": {
             "outlinewidth": 1,
             "tickcolor": "rgb(36,36,36)",
             "ticks": "outside"
            },
            "colorscale": [
             [
              0,
              "#440154"
             ],
             [
              0.1111111111111111,
              "#482878"
             ],
             [
              0.2222222222222222,
              "#3e4989"
             ],
             [
              0.3333333333333333,
              "#31688e"
             ],
             [
              0.4444444444444444,
              "#26828e"
             ],
             [
              0.5555555555555556,
              "#1f9e89"
             ],
             [
              0.6666666666666666,
              "#35b779"
             ],
             [
              0.7777777777777778,
              "#6ece58"
             ],
             [
              0.8888888888888888,
              "#b5de2b"
             ],
             [
              1,
              "#fde725"
             ]
            ],
            "type": "heatmapgl"
           }
          ],
          "histogram": [
           {
            "marker": {
             "line": {
              "color": "white",
              "width": 0.6
             }
            },
            "type": "histogram"
           }
          ],
          "histogram2d": [
           {
            "colorbar": {
             "outlinewidth": 1,
             "tickcolor": "rgb(36,36,36)",
             "ticks": "outside"
            },
            "colorscale": [
             [
              0,
              "#440154"
             ],
             [
              0.1111111111111111,
              "#482878"
             ],
             [
              0.2222222222222222,
              "#3e4989"
             ],
             [
              0.3333333333333333,
              "#31688e"
             ],
             [
              0.4444444444444444,
              "#26828e"
             ],
             [
              0.5555555555555556,
              "#1f9e89"
             ],
             [
              0.6666666666666666,
              "#35b779"
             ],
             [
              0.7777777777777778,
              "#6ece58"
             ],
             [
              0.8888888888888888,
              "#b5de2b"
             ],
             [
              1,
              "#fde725"
             ]
            ],
            "type": "histogram2d"
           }
          ],
          "histogram2dcontour": [
           {
            "colorbar": {
             "outlinewidth": 1,
             "tickcolor": "rgb(36,36,36)",
             "ticks": "outside"
            },
            "colorscale": [
             [
              0,
              "#440154"
             ],
             [
              0.1111111111111111,
              "#482878"
             ],
             [
              0.2222222222222222,
              "#3e4989"
             ],
             [
              0.3333333333333333,
              "#31688e"
             ],
             [
              0.4444444444444444,
              "#26828e"
             ],
             [
              0.5555555555555556,
              "#1f9e89"
             ],
             [
              0.6666666666666666,
              "#35b779"
             ],
             [
              0.7777777777777778,
              "#6ece58"
             ],
             [
              0.8888888888888888,
              "#b5de2b"
             ],
             [
              1,
              "#fde725"
             ]
            ],
            "type": "histogram2dcontour"
           }
          ],
          "mesh3d": [
           {
            "colorbar": {
             "outlinewidth": 1,
             "tickcolor": "rgb(36,36,36)",
             "ticks": "outside"
            },
            "type": "mesh3d"
           }
          ],
          "parcoords": [
           {
            "line": {
             "colorbar": {
              "outlinewidth": 1,
              "tickcolor": "rgb(36,36,36)",
              "ticks": "outside"
             }
            },
            "type": "parcoords"
           }
          ],
          "pie": [
           {
            "automargin": true,
            "type": "pie"
           }
          ],
          "scatter": [
           {
            "fillpattern": {
             "fillmode": "overlay",
             "size": 10,
             "solidity": 0.2
            },
            "type": "scatter"
           }
          ],
          "scatter3d": [
           {
            "line": {
             "colorbar": {
              "outlinewidth": 1,
              "tickcolor": "rgb(36,36,36)",
              "ticks": "outside"
             }
            },
            "marker": {
             "colorbar": {
              "outlinewidth": 1,
              "tickcolor": "rgb(36,36,36)",
              "ticks": "outside"
             }
            },
            "type": "scatter3d"
           }
          ],
          "scattercarpet": [
           {
            "marker": {
             "colorbar": {
              "outlinewidth": 1,
              "tickcolor": "rgb(36,36,36)",
              "ticks": "outside"
             }
            },
            "type": "scattercarpet"
           }
          ],
          "scattergeo": [
           {
            "marker": {
             "colorbar": {
              "outlinewidth": 1,
              "tickcolor": "rgb(36,36,36)",
              "ticks": "outside"
             }
            },
            "type": "scattergeo"
           }
          ],
          "scattergl": [
           {
            "marker": {
             "colorbar": {
              "outlinewidth": 1,
              "tickcolor": "rgb(36,36,36)",
              "ticks": "outside"
             }
            },
            "type": "scattergl"
           }
          ],
          "scattermapbox": [
           {
            "marker": {
             "colorbar": {
              "outlinewidth": 1,
              "tickcolor": "rgb(36,36,36)",
              "ticks": "outside"
             }
            },
            "type": "scattermapbox"
           }
          ],
          "scatterpolar": [
           {
            "marker": {
             "colorbar": {
              "outlinewidth": 1,
              "tickcolor": "rgb(36,36,36)",
              "ticks": "outside"
             }
            },
            "type": "scatterpolar"
           }
          ],
          "scatterpolargl": [
           {
            "marker": {
             "colorbar": {
              "outlinewidth": 1,
              "tickcolor": "rgb(36,36,36)",
              "ticks": "outside"
             }
            },
            "type": "scatterpolargl"
           }
          ],
          "scatterternary": [
           {
            "marker": {
             "colorbar": {
              "outlinewidth": 1,
              "tickcolor": "rgb(36,36,36)",
              "ticks": "outside"
             }
            },
            "type": "scatterternary"
           }
          ],
          "surface": [
           {
            "colorbar": {
             "outlinewidth": 1,
             "tickcolor": "rgb(36,36,36)",
             "ticks": "outside"
            },
            "colorscale": [
             [
              0,
              "#440154"
             ],
             [
              0.1111111111111111,
              "#482878"
             ],
             [
              0.2222222222222222,
              "#3e4989"
             ],
             [
              0.3333333333333333,
              "#31688e"
             ],
             [
              0.4444444444444444,
              "#26828e"
             ],
             [
              0.5555555555555556,
              "#1f9e89"
             ],
             [
              0.6666666666666666,
              "#35b779"
             ],
             [
              0.7777777777777778,
              "#6ece58"
             ],
             [
              0.8888888888888888,
              "#b5de2b"
             ],
             [
              1,
              "#fde725"
             ]
            ],
            "type": "surface"
           }
          ],
          "table": [
           {
            "cells": {
             "fill": {
              "color": "rgb(237,237,237)"
             },
             "line": {
              "color": "white"
             }
            },
            "header": {
             "fill": {
              "color": "rgb(217,217,217)"
             },
             "line": {
              "color": "white"
             }
            },
            "type": "table"
           }
          ]
         },
         "layout": {
          "annotationdefaults": {
           "arrowhead": 0,
           "arrowwidth": 1
          },
          "autotypenumbers": "strict",
          "coloraxis": {
           "colorbar": {
            "outlinewidth": 1,
            "tickcolor": "rgb(36,36,36)",
            "ticks": "outside"
           }
          },
          "colorscale": {
           "diverging": [
            [
             0,
             "rgb(103,0,31)"
            ],
            [
             0.1,
             "rgb(178,24,43)"
            ],
            [
             0.2,
             "rgb(214,96,77)"
            ],
            [
             0.3,
             "rgb(244,165,130)"
            ],
            [
             0.4,
             "rgb(253,219,199)"
            ],
            [
             0.5,
             "rgb(247,247,247)"
            ],
            [
             0.6,
             "rgb(209,229,240)"
            ],
            [
             0.7,
             "rgb(146,197,222)"
            ],
            [
             0.8,
             "rgb(67,147,195)"
            ],
            [
             0.9,
             "rgb(33,102,172)"
            ],
            [
             1,
             "rgb(5,48,97)"
            ]
           ],
           "sequential": [
            [
             0,
             "#440154"
            ],
            [
             0.1111111111111111,
             "#482878"
            ],
            [
             0.2222222222222222,
             "#3e4989"
            ],
            [
             0.3333333333333333,
             "#31688e"
            ],
            [
             0.4444444444444444,
             "#26828e"
            ],
            [
             0.5555555555555556,
             "#1f9e89"
            ],
            [
             0.6666666666666666,
             "#35b779"
            ],
            [
             0.7777777777777778,
             "#6ece58"
            ],
            [
             0.8888888888888888,
             "#b5de2b"
            ],
            [
             1,
             "#fde725"
            ]
           ],
           "sequentialminus": [
            [
             0,
             "#440154"
            ],
            [
             0.1111111111111111,
             "#482878"
            ],
            [
             0.2222222222222222,
             "#3e4989"
            ],
            [
             0.3333333333333333,
             "#31688e"
            ],
            [
             0.4444444444444444,
             "#26828e"
            ],
            [
             0.5555555555555556,
             "#1f9e89"
            ],
            [
             0.6666666666666666,
             "#35b779"
            ],
            [
             0.7777777777777778,
             "#6ece58"
            ],
            [
             0.8888888888888888,
             "#b5de2b"
            ],
            [
             1,
             "#fde725"
            ]
           ]
          },
          "colorway": [
           "#1F77B4",
           "#FF7F0E",
           "#2CA02C",
           "#D62728",
           "#9467BD",
           "#8C564B",
           "#E377C2",
           "#7F7F7F",
           "#BCBD22",
           "#17BECF"
          ],
          "font": {
           "color": "rgb(36,36,36)"
          },
          "geo": {
           "bgcolor": "white",
           "lakecolor": "white",
           "landcolor": "white",
           "showlakes": true,
           "showland": true,
           "subunitcolor": "white"
          },
          "hoverlabel": {
           "align": "left"
          },
          "hovermode": "closest",
          "mapbox": {
           "style": "light"
          },
          "paper_bgcolor": "white",
          "plot_bgcolor": "white",
          "polar": {
           "angularaxis": {
            "gridcolor": "rgb(232,232,232)",
            "linecolor": "rgb(36,36,36)",
            "showgrid": false,
            "showline": true,
            "ticks": "outside"
           },
           "bgcolor": "white",
           "radialaxis": {
            "gridcolor": "rgb(232,232,232)",
            "linecolor": "rgb(36,36,36)",
            "showgrid": false,
            "showline": true,
            "ticks": "outside"
           }
          },
          "scene": {
           "xaxis": {
            "backgroundcolor": "white",
            "gridcolor": "rgb(232,232,232)",
            "gridwidth": 2,
            "linecolor": "rgb(36,36,36)",
            "showbackground": true,
            "showgrid": false,
            "showline": true,
            "ticks": "outside",
            "zeroline": false,
            "zerolinecolor": "rgb(36,36,36)"
           },
           "yaxis": {
            "backgroundcolor": "white",
            "gridcolor": "rgb(232,232,232)",
            "gridwidth": 2,
            "linecolor": "rgb(36,36,36)",
            "showbackground": true,
            "showgrid": false,
            "showline": true,
            "ticks": "outside",
            "zeroline": false,
            "zerolinecolor": "rgb(36,36,36)"
           },
           "zaxis": {
            "backgroundcolor": "white",
            "gridcolor": "rgb(232,232,232)",
            "gridwidth": 2,
            "linecolor": "rgb(36,36,36)",
            "showbackground": true,
            "showgrid": false,
            "showline": true,
            "ticks": "outside",
            "zeroline": false,
            "zerolinecolor": "rgb(36,36,36)"
           }
          },
          "shapedefaults": {
           "fillcolor": "black",
           "line": {
            "width": 0
           },
           "opacity": 0.3
          },
          "ternary": {
           "aaxis": {
            "gridcolor": "rgb(232,232,232)",
            "linecolor": "rgb(36,36,36)",
            "showgrid": false,
            "showline": true,
            "ticks": "outside"
           },
           "baxis": {
            "gridcolor": "rgb(232,232,232)",
            "linecolor": "rgb(36,36,36)",
            "showgrid": false,
            "showline": true,
            "ticks": "outside"
           },
           "bgcolor": "white",
           "caxis": {
            "gridcolor": "rgb(232,232,232)",
            "linecolor": "rgb(36,36,36)",
            "showgrid": false,
            "showline": true,
            "ticks": "outside"
           }
          },
          "title": {
           "x": 0.05
          },
          "xaxis": {
           "automargin": true,
           "gridcolor": "rgb(232,232,232)",
           "linecolor": "rgb(36,36,36)",
           "showgrid": false,
           "showline": true,
           "ticks": "outside",
           "title": {
            "standoff": 15
           },
           "zeroline": false,
           "zerolinecolor": "rgb(36,36,36)"
          },
          "yaxis": {
           "automargin": true,
           "gridcolor": "rgb(232,232,232)",
           "linecolor": "rgb(36,36,36)",
           "showgrid": false,
           "showline": true,
           "ticks": "outside",
           "title": {
            "standoff": 15
           },
           "zeroline": false,
           "zerolinecolor": "rgb(36,36,36)"
          }
         }
        },
        "title": {
         "font": {
          "size": 20
         },
         "text": "Population vs. Total CO₂ Emissions (log‑log) in 2023",
         "x": 0.5
        },
        "xaxis": {
         "anchor": "y",
         "domain": [
          0,
          1
         ],
         "gridcolor": "lightgrey",
         "title": {
          "text": "log₁₀(Population)"
         }
        },
        "yaxis": {
         "anchor": "x",
         "domain": [
          0,
          1
         ],
         "gridcolor": "lightgrey",
         "title": {
          "text": "log₁₀(Total CO₂ Emissions)"
         }
        }
       }
      }
     },
     "metadata": {},
     "output_type": "display_data"
    }
   ],
   "source": [
    "import plotly.express as px\n",
    "import plotly.graph_objects as go\n",
    "import numpy as np\n",
    "from sklearn.linear_model import LinearRegression\n",
    "\n",
    "# 1. Prepare data (same as before)\n",
    "latest_year = data_clean['year'].max()\n",
    "df_pp = data_clean[\n",
    "    (data_clean['year'] == latest_year) &\n",
    "    data_clean['population'].notnull() &\n",
    "    data_clean['co2'].notnull()\n",
    "][['country', 'population', 'co2']].copy()\n",
    "\n",
    "# 2. Log-transform and fit regression\n",
    "df_pp['log_pop'] = np.log10(df_pp['population'])\n",
    "df_pp['log_co2'] = np.log10(df_pp['co2'])\n",
    "X = df_pp[['log_pop']].values\n",
    "y = df_pp['log_co2'].values\n",
    "model = LinearRegression().fit(X, y)\n",
    "df_pp['y_pred'] = model.predict(X)\n",
    "\n",
    "# 3. Scatter plot\n",
    "fig = px.scatter(\n",
    "    df_pp,\n",
    "    x='log_pop',\n",
    "    y='log_co2',\n",
    "    hover_name='country',\n",
    "    size_max=10,\n",
    "    opacity=0.7,\n",
    "    labels={\n",
    "        'log_pop': 'log₁₀(Population)',\n",
    "        'log_co2': 'log₁₀(Total CO₂ Emissions)'\n",
    "    },\n",
    "    title=f\"Population vs. Total CO₂ Emissions (log‑log) in {latest_year}\"\n",
    ")\n",
    "\n",
    "# 4. Regression line\n",
    "df_line = df_pp.sort_values('log_pop')\n",
    "fig.add_trace(\n",
    "    go.Scatter(\n",
    "        x=df_line['log_pop'],\n",
    "        y=df_line['y_pred'],\n",
    "        mode='lines',\n",
    "        line=dict(width=2, color='red'),\n",
    "        name=f\"Fit: log₁₀(CO₂) = {model.coef_[0]:.2f}·log₁₀(Pop) + {model.intercept_:.2f}\"\n",
    "    )\n",
    ")\n",
    "\n",
    "# 5. Annotate key outliers\n",
    "highlight = ['China', 'United States', 'India', 'Russia', 'Japan']\n",
    "for country in highlight:\n",
    "    sub = df_pp[df_pp['country'] == country]\n",
    "    if not sub.empty:\n",
    "        fig.add_trace(\n",
    "            go.Scatter(\n",
    "                x=sub['log_pop'],\n",
    "                y=sub['log_co2'],\n",
    "                mode='markers+text',\n",
    "                text=[country],\n",
    "                textposition='top center',\n",
    "                marker=dict(size=12, symbol='star'),\n",
    "                name=country,\n",
    "                showlegend=False\n",
    "            )\n",
    "        )\n",
    "\n",
    "# 6. Aesthetic tweaks\n",
    "fig.update_layout(\n",
    "    template='simple_white',\n",
    "    xaxis=dict(gridcolor='lightgrey'),\n",
    "    yaxis=dict(gridcolor='lightgrey'),\n",
    "    title_x=0.5,\n",
    "    title_font=dict(size=20),\n",
    "    legend=dict(title=''),\n",
    "    margin=dict(l=60, r=20, t=80, b=60)\n",
    ")\n",
    "\n",
    "fig.show()\n"
   ]
  },
  {
   "cell_type": "markdown",
   "id": "6ca0dffb",
   "metadata": {},
   "source": [
    "In 2023, a log‑log scatter of **Population** versus **Total CO₂ Emissions** reveals a nearly linear relationship (slope ≈ 0.92), indicating that larger populations generally produce proportionally more emissions—but slightly less than one‑to‑one. Major countries like China, India, and the United States cluster near the top, reflecting both large populations and high emissions. Notably, points above the trend line (e.g., some oil‑exporting states or small, energy‑intensive economies) emit more CO₂ than their population alone would predict, while those below the line (e.g., highly efficient or service‑based economies) emit less. This pattern underscores the strong role of population scale in driving emissions, while also highlighting outliers where energy intensity, economic structure, or policy interventions significantly alter the population‑emissions dynamic.  \n"
   ]
  },
  {
   "cell_type": "markdown",
   "id": "aff031cc",
   "metadata": {},
   "source": [
    "In 2023, the scatter of **log₁₀(Cumulative CO₂ Emissions)** against **Share of Global Annual CO₂ Emissions** reveals a strong positive relationship: countries with the largest historical emissions still command the biggest slices of today’s global output. China (≈10⁶ Mt cumulative; ~37 %) and the United States (≈10⁶·⁰⁵ Mt; ~13 %) stand out as dominant emitters, while Russia, India, and Saudi Arabia also exceed their historical weight. The fitted trend line (Share ≈ 2.70 · log₁₀(CumCO₂) – 5.59) quantifies this linkage. However, several nations lie above or below the line, indicating shifts in current emission leadership: emerging economies like India have a higher share than their past totals would suggest, whereas some long-industrialized countries show a smaller current share, reflecting stabilization or decline. This analysis underscores both the inertia of historical emissions and the evolving dynamics of global carbon leadership.  \n"
   ]
  },
  {
   "cell_type": "code",
   "execution_count": null,
   "id": "ba69482e",
   "metadata": {},
   "outputs": [],
   "source": []
  }
 ],
 "metadata": {
  "kernelspec": {
   "display_name": "Python 3",
   "language": "python",
   "name": "python3"
  },
  "language_info": {
   "codemirror_mode": {
    "name": "ipython",
    "version": 3
   },
   "file_extension": ".py",
   "mimetype": "text/x-python",
   "name": "python",
   "nbconvert_exporter": "python",
   "pygments_lexer": "ipython3",
   "version": "3.11.9"
  }
 },
 "nbformat": 4,
 "nbformat_minor": 5
}
